{
 "cells": [
  {
   "cell_type": "code",
   "execution_count": 1,
   "id": "cfdddc47-ebbb-4852-8ea7-7953d35d0056",
   "metadata": {},
   "outputs": [],
   "source": [
    "import os\n",
    "import re\n",
    "from dataclasses import dataclass, field\n",
    "from typing import List, Optional\n",
    "import pymupdf\n",
    "import pymupdf4llm\n",
    "import ollama"
   ]
  },
  {
   "cell_type": "code",
   "execution_count": 2,
   "id": "2040634e-cb51-4d11-b0a4-27e492baab8e",
   "metadata": {},
   "outputs": [],
   "source": [
    "# path to demo files\n",
    "repo_path = os.path.dirname(os.getcwd())\n",
    "cvs_path = os.path.join(repo_path, 'cvs')\n",
    "cvs = [os.path.join(cvs_path, file) for file in os.listdir(cvs_path) if file.endswith('.pdf')]"
   ]
  },
  {
   "cell_type": "code",
   "execution_count": 3,
   "id": "bba20b9b-f02a-4909-9f74-afad91f23546",
   "metadata": {},
   "outputs": [],
   "source": [
    "@dataclass\n",
    "class Getter:\n",
    "    directory: str\n",
    "    save_to_file: bool = False\n",
    "    current_index: int = field(init=False, default=0)\n",
    "    files: List[str] = field(init=False)\n",
    "    markdown: Optional[str] = field(init=False, default=None)\n",
    "\n",
    "    def __post_init__(self):\n",
    "        # List all PDF files in the directory\n",
    "        self.files = [file for file in os.listdir(self.directory) if file.endswith('.pdf')]\n",
    "        if not self.files:\n",
    "            raise FileNotFoundError(\"No PDF files found in the specified directory.\")\n",
    "\n",
    "    def get_cv(self, path: str) -> str:\n",
    "        doc = pymupdf.open(path)\n",
    "        self.markdown = pymupdf4llm.to_markdown(doc, show_progress=False)\n",
    "\n",
    "        return self.markdown\n",
    "    \n",
    "    def get_next(self) -> Optional[str]:\n",
    "        \"\"\"Processes the next PDF file in the directory.\"\"\"\n",
    "        if self.current_index >= len(self.files):\n",
    "            print(\"No more files to process.\")\n",
    "            return None\n",
    "        \n",
    "        current_file_path = os.path.join(self.directory, self.files[self.current_index])\n",
    "        self.current_index += 1\n",
    "        \n",
    "        self.markdown = self.get_cv(current_file_path)\n",
    "        \n",
    "        if self.save_to_file:\n",
    "            md_file_path = os.path.splitext(current_file_path)[0] + \".md\"\n",
    "            with open(md_file_path, 'w', encoding='utf-8') as md_file:\n",
    "                md_file.write(self.markdown)\n",
    "        \n",
    "        return self.markdown\n",
    "\n",
    "    def reset(self):\n",
    "        \"\"\"Resets the processing index to the beginning.\"\"\"\n",
    "        self.current_index = 0\n",
    "        self.markdown = None"
   ]
  },
  {
   "cell_type": "code",
   "execution_count": 46,
   "id": "3bf6f373-8301-4311-a329-de18c7ed134b",
   "metadata": {},
   "outputs": [],
   "source": [
    "@dataclass\n",
    "class Profiler:\n",
    "    resume: str\n",
    "    save_to_file: bool = False\n",
    "    model: str = 'llama3.2:1b'\n",
    "    categories: List = field(default_factory=lambda: ['contact', 'education', 'experience', 'skills'])\n",
    "\n",
    "    def split_by_blocks(self):\n",
    "        block_pattern = r'\\.\\n|\\n\\n'\n",
    "        blocks = re.split(block_pattern, self.resume)\n",
    "        for idx, block in enumerate(blocks):\n",
    "            blocks[idx] = re.sub(r'#+\\s', '', block).lstrip('\\n')\n",
    "\n",
    "        blocks = list(filter(None, blocks))\n",
    "        return blocks\n",
    "            \n",
    "\n",
    "    def get_name(self):\n",
    "        prompt = f\"\"\"The following text is an excerpt from a job candidate's résumé for a teaching position.\n",
    "        ---\n",
    "        {self.resume}\n",
    "        ---\n",
    "        Extract the candidate's full name. Return only the name as your answer, formated in sentence case and without any other information nor special characters such as punctuation symbols. \n",
    "        \"\"\"\n",
    "        response = ollama.generate(\n",
    "            model=self.model,\n",
    "            prompt=prompt\n",
    "        )\n",
    "        return response['response']\n",
    "        \n",
    "    def summarize(self):\n",
    "        prompt = f\"\"\"You are a human resources expert, specialized in talent acquisition for schools. \n",
    "        You are tasked with summarizing résumés highlighting the following aspects:\n",
    "            - Contact Information (phone number, email address and social network handles/personal web pages).\n",
    "            - Education (degrees obtained and other studies such as courses made).\n",
    "            - Job Experience (teaching/research positions, non teaching jobs, etc.).\n",
    "            - Skills (technical or others).\n",
    "        The following text is a candidate's résumé.\n",
    "        ---\n",
    "        {self.resume}\n",
    "        ---\n",
    "        Write a 100 to 150 words summary of the résumé given.\n",
    "        \"\"\"\n",
    "        response = ollama.generate(\n",
    "            model=self.model,\n",
    "            prompt=prompt\n",
    "        )\n",
    "        return response['response']"
   ]
  },
  {
   "cell_type": "code",
   "execution_count": 47,
   "id": "e3713401-e059-4d4e-8826-7bb1b516f704",
   "metadata": {
    "scrolled": true
   },
   "outputs": [
    {
     "name": "stdout",
     "output_type": "stream",
     "text": [
      "Juan Beiroa.\n",
      "Juan Beiroa's résumé highlights his extensive experience in teaching and research positions. He has taught at various institutions, including Colegio Bayard Coordinador de Ciencias Exactas y Tecnología, Universidad de Buenos Aires XXI, and Ministerio de Educación de la Nación Asesor de políticas educativas. Beiroa's academic background includes a degree in physics from the University of Buenos Aires and a specialization in education policy at the Universidad Pedagógica Nacional.\n",
      "\n",
      "He has also held various roles, including Ayudante de 1ª del materia Física e Introducción a la Biofísica at UBA XXI and Asesor de la Secretaría General del Consejo Federal de Educación. Additionally, Beiroa has worked in the fields of data science and technology, including as a Tecnico at Grupo de investigación orientado al estudio de propiedades termomecánicas en CuAlNi.\n",
      "\n",
      "Throughout his career, Beiroa has demonstrated expertise in producing reports on salary analysis, facilitating negotiations with labor unions, and leveraging data analytics to inform strategic decision-making. His passion for education combines with advanced skills in machine learning and predictive modeling, making him an attractive candidate for a dynamic professional setting.\n"
     ]
    }
   ],
   "source": [
    "getter = Getter(directory=cvs_path)\n",
    "md = getter.get_cv(cvs[2])\n",
    "profiler = Profiler(md)\n",
    "print(profiler.get_name())\n",
    "print(profiler.summarize())"
   ]
  },
  {
   "cell_type": "code",
   "execution_count": 48,
   "id": "94a60d9f-3312-471d-ba2b-9e6c31104f35",
   "metadata": {},
   "outputs": [
    {
     "name": "stdout",
     "output_type": "stream",
     "text": [
      "The résumé highlights Juan Ignacio Beiroa's diverse background in education, research, and data science. As a physics expert with an education degree from the University of Buenos Aires, he brings expertise in scientific principles to his work as a data professional. His experience in teaching introductory physics for biologists, geologists, and chemists has been leveraged as a coordinator at Bayard School, overseeing curriculum redesign and implementation. Beiroa's research background includes working with CuAlNi single crystals and developing an early warning system for school dropout using Python. He has also led data collection and fiscal analysis for union negotiations and designed acoustic experiments for behavioral studies in fish. Throughout his career, he has demonstrated strong analytical skills, leadership abilities, and the ability to communicate complex ideas effectively. With a focus on data-driven strategy and operational improvements, Beiroa is poised to leverage his expertise in a consulting role.\n",
      "\n",
      "\n",
      "-------------------\n",
      "\n",
      "\n",
      "El recenso que se presentó revela una experiencia única en el ámbito educativo. Durante su vida, ha dedicado sus esfuerzos y energías a contribuir al desarrollo de contenidos, cursos y talleres para docentes sobre tecnología educativa. También han participado activamente en la design y dictado de actividades como un curso de primeros auxilios y RCP DEA.\n",
      "\n",
      "En el ámbito específico de enseñanza media y superior, ha ocupado cargos relevantes como Representante del Claustro de Estudiantes. Además, ha sido Expositor en varias instancias académicas importantes, como la Estación Fluidos y Electromagnetismo, donde se han expuesto conceptos complejos a través de experimentos simples.\n",
      "\n",
      "La experiencia de enseñanza no es el único campo al que ha dedicado su tiempo, ya que también ha participado en actividades de divulgación y popularización científica como la Estación Fluidos y Electromagnetismo.\n",
      "\n",
      "\n",
      "-------------------\n",
      "\n",
      "\n",
      "Juan Beiroa is a dedicated physics educator with an impressive academic background and expertise in education policy. He has held positions at prestigious institutions, including Colegio Bayard Coordinador de Ciencias Exactas y Tecnología and Universidad de Buenos Aires UBA XXI. As an advisor to the Ministerio de Educación de la Nación, he contributed to developing and implementing educational policies.\n",
      "\n",
      "With a strong foundation in data analysis and machine learning, Juan has successfully navigated career transitions into the field of data science. His expertise lies in producing insightful reports on salary negotiations and contributing to the development of data-driven initiatives. Throughout his academic and professional pursuits, Juan has demonstrated a commitment to education policy and a passion for advanced data science skills. With his unique blend of scientific knowledge and educational experience, he is poised to drive meaningful changes in education policies and initiatives.\n",
      "\n",
      "\n",
      "-------------------\n",
      "\n",
      "\n",
      "El currículum vitae de Juan Ignacio Beiroa destaca su experiencia como científico en física y educación, con una especialización en Inteligencia Artificial (IA) y ciencias de datos. Tiene un título universitario en Física y ha realizado estudios adicionales en Biología y Química. También tiene experiencia en el campo académico como asesor gubernamental e instructor.\n",
      "\n",
      "En su trabajo actual, es Coordinador del Departamento de Ciencia y Tecnología en una universidad, supervisando un equipo de docentes y diseñando planes de estudio para área específica. Además, ha sido responsable del rediseño y implementación de los planes de estudio en varias instituciones educativas.\n",
      "\n",
      "Beiroa también ha participado en proyectos de investigación en el campo de la física y la computación. Además, ha realizado contribuciones importantes a la ciencia de datos y a la inteligencia artificial, lo que refleja su compromiso con las tecnologías emergentes. En términos de habilidades, destaca su capacidad para analizar datos, desarrollar modelos de aprendizaje automático y implementar soluciones basadas en datos.\n",
      "\n",
      "\n",
      "-------------------\n",
      "\n",
      "\n",
      "No more files to process.\n"
     ]
    }
   ],
   "source": [
    "while True:\n",
    "    cv = getter.get_next()\n",
    "    if cv is None:\n",
    "        break\n",
    "    profiler = Profiler(cv)\n",
    "    summary = profiler.summarize()\n",
    "    print(summary)\n",
    "    print('\\n\\n-------------------\\n\\n')"
   ]
  },
  {
   "cell_type": "code",
   "execution_count": null,
   "id": "ee7c6e7a-a19e-4d1d-af5a-4f29a9e81705",
   "metadata": {},
   "outputs": [],
   "source": []
  }
 ],
 "metadata": {
  "kernelspec": {
   "display_name": "Python 3 (ipykernel)",
   "language": "python",
   "name": "python3"
  },
  "language_info": {
   "codemirror_mode": {
    "name": "ipython",
    "version": 3
   },
   "file_extension": ".py",
   "mimetype": "text/x-python",
   "name": "python",
   "nbconvert_exporter": "python",
   "pygments_lexer": "ipython3",
   "version": "3.12.4"
  }
 },
 "nbformat": 4,
 "nbformat_minor": 5
}
