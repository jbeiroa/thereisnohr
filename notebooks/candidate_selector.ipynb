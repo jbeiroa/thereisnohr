{
 "cells": [
  {
   "cell_type": "code",
   "execution_count": 80,
   "id": "5bceddeb-5956-487d-b2ac-6d123ef3b7b8",
   "metadata": {},
   "outputs": [],
   "source": [
    "import os\n",
    "from itertools import product\n",
    "from dataclasses import dataclass, field\n",
    "from sentence_transformers import SentenceTransformer, util\n",
    "from typing import List"
   ]
  },
  {
   "cell_type": "code",
   "execution_count": 39,
   "id": "86739998-3f74-45ec-b2d6-b01de5de9e7a",
   "metadata": {},
   "outputs": [],
   "source": [
    "repo_path = os.path.dirname(os.getcwd())\n",
    "summaries_path = os.path.join(repo_path, 'cvs', 'summary.txt')\n",
    "descriptions_path = os.path.join(repo_path, 'cvs', 'job_descriptions.txt')"
   ]
  },
  {
   "cell_type": "code",
   "execution_count": 40,
   "id": "b4ff28f9-1fe5-4ad1-9682-e69746814856",
   "metadata": {},
   "outputs": [],
   "source": [
    "with open(summaries_path, 'r') as file:\n",
    "    txt = file.read()\n",
    "    summaries = txt.split('\\n\\n-------------------\\n\\n')\n",
    "summaries.pop(-1)\n",
    "\n",
    "with open(descriptions_path, 'r') as file:\n",
    "    txt = file.read()\n",
    "    job_descriptions = txt.split('\\n\\n-------------------\\n\\n')"
   ]
  },
  {
   "cell_type": "code",
   "execution_count": 107,
   "id": "bd3db701-8720-4330-9bb6-a12fa731efb3",
   "metadata": {},
   "outputs": [],
   "source": [
    "@dataclass\n",
    "class Candidate_Selector():\n",
    "    candidates: List[str] = field(default=None)\n",
    "    job_description: str = field(default=None)\n",
    "    model: str = 'paraphrase-multilingual-MiniLM-L12-v2'\n",
    "\n",
    "    def make_model(self):\n",
    "        return SentenceTransformer(self.model)\n",
    "    \n",
    "    def embed(self, data):\n",
    "        embedding = self.make_model().encode(data)\n",
    "        return embedding\n",
    "    \n",
    "    def calculate_similarities(self):\n",
    "        candidates = self.embed(self.candidates)\n",
    "        job = self.embed(self.job_description)\n",
    "        hits = util.semantic_search(job, candidates)\n",
    "\n",
    "        return hits\n",
    "    \n",
    "    \n",
    "    def select_top_candidates(self, k = 1):\n",
    "        hits = self.calculate_similarities()\n",
    "        if k == 1:\n",
    "            return hits[0][:k]['corpus_id']\n",
    "        top_k = []\n",
    "        for i in range(k):\n",
    "            top_k.append(hits[0][i]['corpus_id'])\n",
    "        return top_k\n",
    "\n",
    "    def print_top_candidates(self, k = 1):\n",
    "        top_k = self.select_top_candidates(k=k)\n",
    "        result = f\"\"\"Job desciption: {self.job_description}\n",
    "\n",
    "        Top {k} candidate summaries:\n",
    "\n",
    "        {'\\n\\n------\\n\\n'.join([self.candidates[k] for k in top_k])}\n",
    "        \"\"\"\n",
    "        print(result)"
   ]
  },
  {
   "cell_type": "code",
   "execution_count": 108,
   "id": "82242558-5f2e-4fd7-9aca-9895bd5b0bc7",
   "metadata": {},
   "outputs": [],
   "source": [
    "selector = Candidate_Selector(summaries, job_descriptions[0])"
   ]
  },
  {
   "cell_type": "code",
   "execution_count": 109,
   "id": "5e6a85c2-d8a6-4035-8386-61fdb5175dc8",
   "metadata": {},
   "outputs": [
    {
     "name": "stdout",
     "output_type": "stream",
     "text": [
      "Job desciption: Physics Teacher\n",
      "We are seeking a teacher with a strong theoretical background in Physics and experience managing educational laboratories. The ideal candidate will be able to design and conduct laboratory practices, including developing equipment and materials to enrich students' learning. Experience in organizing practical experiments to promote a deep understanding of theoretical concepts will be valued.\n",
      "Requirements:\n",
      "- Teaching degree in Physics or related fields.\n",
      "- Previous experience managing and organizing school laboratories.\n",
      "- Ability to develop laboratory practices and collaborate on creating new resources.\n",
      "\n",
      "        Top 3 candidate summaries:\n",
      "\n",
      "        **Revisión de RÉSUMÉ**\n",
      "\n",
      "* Informática Educativa: se enfoca en la tecnología educativa y su implementación en el aula escolar\n",
      "* Didáctica Específica y Prácticas de la Enseñanza II del Profesorado de Física de la FCEyN-UBA: se desarrollan unidades didácticas específicas para esta materia\n",
      "* Unidad Didáctica diseñada en la Matería Didáctica General del Profesorado de Física de la FECyN: se presenta como una unidad de aprendizaje en línea\n",
      "* Reunión Nacional de Enseñanza de la Física XXI (Oct. 2019): se presentó el proyecto \"Anales de experiencias docentes REFXXI\"\n",
      "* Desarrollo de contenidos digitales gratuitos para docentes: se publican regularmente en Instagram @didacTIC.ar\n",
      "* Diseño y dictado de talleres y cursos sobre tecnología educativa: participación del equipo del curso\n",
      "* Curso de primeros auxilios y RCP DEA (May. 2019): se dicta el curso en el Centro Médico Víctor Baltao\n",
      "\n",
      "------\n",
      "\n",
      "Name: Juan Ignacio Beiroa\n",
      "Skills:\n",
      "- Technical: Git, Excel, Python, Javascript, HTML, CSS\n",
      "- Non-Technical: Data Analytics & Machine Learning, Physics, Academic Writing, Research Methodology\n",
      "Experience:\n",
      "- Teaching/Research positions: Introductory Physics for Biologists, Geologists and Chemists (2016-2017), Taught Physics and Introduction to Biophysics subject for Medical and Veterinary Careers (Current)\n",
      "- Non-teaching roles: Coordinator of the Science and Technology Department at Bayard School, Led data collection and fiscal analysis for union negotiations\n",
      "Education:\n",
      "- Degrees obtained: University of Buenos Aires, Pedagogical University; Diploma in AI - Humai Institute\n",
      "  Courses taken: Introduction to AI, Spec. in Education Policies\n",
      "\n",
      "------\n",
      "\n",
      "Juan Ignacio Beiroa\n",
      "- Skills: \n",
      "  - Data Science\n",
      "  - Artificial Intelligence\n",
      "  - Machine Learning\n",
      "  - Python programming\n",
      "  - SQL\n",
      "  - Git\n",
      "  - Excel\n",
      "  - Javascript\n",
      "  - HTML\n",
      "  - CSS\n",
      "  - Arduino\n",
      "  - Leadership\n",
      "  - Project Management\n",
      "\n",
      "Experience:\n",
      "  - Professor/Researcher at the Universidad de Buenos Aires, since 2020\n",
      "    + Teaching position: Física\n",
      "    + Research positions: Científico de datos con experiencia en física y educación (2016-2017)\n",
      "      + Education: Ciencias Sociales, Economía (Universidad de Buenos Aires); Diplomatura en IA - Instituto Humai (2019)\n",
      "\n",
      "  - Educator/Asesor Gubernamental in transition to the science of data\n",
      "    + Experience: Educational roles and leadership positions\n",
      "\n",
      "  - Data Analyst at Machine Learning Python - SQL - Git - Docencia Comunicación - Excel - Javascript - html - CSS - Arduino - Liderazgo Gestión de proyectos (2009-2019)\n",
      "    + Education: Not mentioned\n",
      "        \n"
     ]
    }
   ],
   "source": [
    "selector.print_top_candidates(k=3)"
   ]
  },
  {
   "cell_type": "code",
   "execution_count": null,
   "id": "7557e7b0-ae66-4fbc-85b3-4f3439e8bb80",
   "metadata": {},
   "outputs": [],
   "source": []
  }
 ],
 "metadata": {
  "kernelspec": {
   "display_name": "Python 3 (ipykernel)",
   "language": "python",
   "name": "python3"
  },
  "language_info": {
   "codemirror_mode": {
    "name": "ipython",
    "version": 3
   },
   "file_extension": ".py",
   "mimetype": "text/x-python",
   "name": "python",
   "nbconvert_exporter": "python",
   "pygments_lexer": "ipython3",
   "version": "3.12.4"
  }
 },
 "nbformat": 4,
 "nbformat_minor": 5
}
