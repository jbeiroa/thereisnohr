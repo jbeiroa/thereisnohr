{
 "cells": [
  {
   "cell_type": "code",
   "execution_count": 1,
   "id": "4290a6c5-f2ad-40de-8204-5ecf36863a1e",
   "metadata": {},
   "outputs": [],
   "source": [
    "import os \n",
    "import json\n",
    "import kagglehub\n",
    "import pandas as pd\n",
    "from matplotlib import pyplot as plt\n",
    "from collections import defaultdict"
   ]
  },
  {
   "cell_type": "code",
   "execution_count": 2,
   "id": "fbf5277d-391b-4462-8354-35b29d6b7b8f",
   "metadata": {},
   "outputs": [
    {
     "name": "stdout",
     "output_type": "stream",
     "text": [
      "Path to dataset files: /Users/juanbeiroa/.cache/kagglehub/datasets/dataturks/resume-entities-for-ner/versions/1\n"
     ]
    }
   ],
   "source": [
    "# resume dataset from kaggle\n",
    "path = kagglehub.dataset_download(\"dataturks/resume-entities-for-ner\")\n",
    "\n",
    "print(\"Path to dataset files:\", path)"
   ]
  },
  {
   "cell_type": "code",
   "execution_count": 3,
   "id": "50d4da15-1f19-4b93-afd1-280937e7fa29",
   "metadata": {},
   "outputs": [],
   "source": [
    "# functions by K Scott Mader in https://www.kaggle.com/code/kmader/finding-good-parts-of-resumes/notebook\n",
    "base_json = path + '/Entity Recognition in Resumes.json'\n",
    "def pop_annot(raw_line):\n",
    "    in_line = defaultdict(list, **raw_line)\n",
    "    if 'annotation' in in_line:\n",
    "        labels = in_line['annotation']\n",
    "        for c_lab in labels:\n",
    "            if len(c_lab['label'])>0:\n",
    "                in_line[c_lab['label'][0]] += c_lab['points']\n",
    "    return in_line\n",
    "with open(base_json, 'r') as f:\n",
    "    # data is jsonl and so we parse it line-by-line\n",
    "    resume_data = [json.loads(f_line) for f_line in f.readlines()]\n",
    "    resume_df = pd.DataFrame([pop_annot(line) for line in resume_data])\n",
    "resume_df['length'] = resume_df['content'].map(len)\n",
    "\n",
    "def extract_higlights(raw_line):\n",
    "    in_line = defaultdict(list, **raw_line)\n",
    "    if 'annotation' in in_line:\n",
    "        labels = in_line['annotation']\n",
    "        for c_lab in labels:\n",
    "            if len(c_lab['label'])>0:\n",
    "                in_line['highlight'] += [dict(category = c_lab['label'][0], **cpts) for cpts in c_lab['points']]\n",
    "    return in_line\n",
    "resume_hl_df = pd.DataFrame([extract_higlights(line) for line in resume_data])\n",
    "resume_hl_df['length'] = resume_hl_df['content'].map(len)"
   ]
  },
  {
   "cell_type": "code",
   "execution_count": 4,
   "id": "012f0210-576d-4710-9db3-3b81f29de1c6",
   "metadata": {},
   "outputs": [],
   "source": [
    "def merge_repeating_categories(data):\n",
    "    \"\"\"\n",
    "    Courtesy of ChatGPT.\n",
    "    Merges the text of repeating categories in a list of dictionaries.\n",
    "    \n",
    "    Parameters:\n",
    "        data (list): A list of dictionaries with 'category' and 'text' keys.\n",
    "    \n",
    "    Returns:\n",
    "        dict: A dictionary where keys are unique categories and values are merged texts.\n",
    "    \"\"\"\n",
    "    merged_categories = defaultdict(str)  # Initialize a defaultdict for concatenated text\n",
    "    \n",
    "    for entry in data:\n",
    "        category = entry['category']\n",
    "        text = entry['text']\n",
    "        # Append text with a separator (e.g., a space or newline)\n",
    "        merged_categories[category] += text.strip() + '\\n'\n",
    "    \n",
    "    # Remove trailing newlines in the final dictionary\n",
    "    return {category: text.strip() for category, text in merged_categories.items()}"
   ]
  },
  {
   "cell_type": "code",
   "execution_count": 5,
   "id": "7fafc221-7e29-4739-9cd4-2574a7192ed4",
   "metadata": {},
   "outputs": [],
   "source": [
    "# extra cleaning of hihlights\n",
    "resume_hl_df['highlight'] = resume_hl_df['highlight'].map(merge_repeating_categories)"
   ]
  },
  {
   "cell_type": "code",
   "execution_count": 6,
   "id": "a9712481-1e86-4f3f-8762-8eb905eca4e8",
   "metadata": {},
   "outputs": [],
   "source": [
    "def summarize_resume(data):\n",
    "    sections = ['Name', 'Skills', 'College Name', 'Degree', 'Companies worked at', 'Designation']\n",
    "    keys = [section for section in sections if section in data.keys()]\n",
    "    summary = \"\"\n",
    "    for key in keys:\n",
    "        summary += f\"*{key}*: {data[key]}.\\n\"\n",
    "    return summary"
   ]
  },
  {
   "cell_type": "code",
   "execution_count": 7,
   "id": "33396bb2-5b66-47d7-a648-173a9fd7e1dc",
   "metadata": {},
   "outputs": [
    {
     "data": {
      "text/plain": [
       "'*Name*: Afreen Jamadar.\\n*Skills*: Database (Less than 1 year), HTML (Less than 1 year), Linux. (Less than 1 year), MICROSOFT\\nACCESS (Less than 1 year), MICROSOFT WINDOWS (Less than 1 year)\\n\\nADDITIONAL INFORMATION\\n\\nTECHNICAL SKILLS:\\n\\n• Programming Languages: C, C++, Java, .net, php.\\n• Web Designing: HTML, XML\\n• Operating Systems: Windows […] Windows Server 2003, Linux.\\n• Database: MS Access, MS SQL Server 2008, Oracle 10g, MySql..\\n*College Name*: Shivaji University Kolhapur\\nCDAC ACTS.\\n*Degree*: Bachelor of Engg in Information Technology\\nPG-DAC.\\n'"
      ]
     },
     "execution_count": 7,
     "metadata": {},
     "output_type": "execute_result"
    }
   ],
   "source": [
    "summarize_resume(resume_hl_df['highlight'][1])"
   ]
  },
  {
   "cell_type": "code",
   "execution_count": 8,
   "id": "a3390b79-7050-4f4d-83ba-76b896747240",
   "metadata": {},
   "outputs": [
    {
     "data": {
      "text/plain": [
       "550"
      ]
     },
     "execution_count": 8,
     "metadata": {},
     "output_type": "execute_result"
    }
   ],
   "source": [
    "len(summarize_resume(resume_hl_df['highlight'][1]))"
   ]
  },
  {
   "cell_type": "code",
   "execution_count": 9,
   "id": "308e0295-5681-4414-969f-2165bacd223f",
   "metadata": {},
   "outputs": [
    {
     "data": {
      "text/plain": [
       "1240"
      ]
     },
     "execution_count": 9,
     "metadata": {},
     "output_type": "execute_result"
    }
   ],
   "source": [
    "len(resume_hl_df['content'][1])"
   ]
  },
  {
   "cell_type": "code",
   "execution_count": 10,
   "id": "ddd6d6f6-ae2a-4038-a714-3f95e676056f",
   "metadata": {},
   "outputs": [],
   "source": [
    "resume_hl_df['summary'] = resume_hl_df['highlight'].map(summarize_resume)"
   ]
  },
  {
   "cell_type": "code",
   "execution_count": 11,
   "id": "d2cb82b5-0ce2-4334-b586-4998048ac50b",
   "metadata": {},
   "outputs": [],
   "source": [
    "resume_hl_df.drop('extras', axis=1, inplace=True)"
   ]
  },
  {
   "cell_type": "code",
   "execution_count": 12,
   "id": "b3138d58-2468-497c-9eab-f223046cef3e",
   "metadata": {},
   "outputs": [
    {
     "data": {
      "text/html": [
       "<div>\n",
       "<style scoped>\n",
       "    .dataframe tbody tr th:only-of-type {\n",
       "        vertical-align: middle;\n",
       "    }\n",
       "\n",
       "    .dataframe tbody tr th {\n",
       "        vertical-align: top;\n",
       "    }\n",
       "\n",
       "    .dataframe thead th {\n",
       "        text-align: right;\n",
       "    }\n",
       "</style>\n",
       "<table border=\"1\" class=\"dataframe\">\n",
       "  <thead>\n",
       "    <tr style=\"text-align: right;\">\n",
       "      <th></th>\n",
       "      <th>content</th>\n",
       "      <th>annotation</th>\n",
       "      <th>highlight</th>\n",
       "      <th>length</th>\n",
       "      <th>summary</th>\n",
       "    </tr>\n",
       "  </thead>\n",
       "  <tbody>\n",
       "    <tr>\n",
       "      <th>99</th>\n",
       "      <td>Vikas Singh\\nChandigarh, Chandigarh - Email me...</td>\n",
       "      <td>[{'label': ['Skills'], 'points': [{'start': 53...</td>\n",
       "      <td>{'Skills': 'SECURITY (5 years), INFORMATION SE...</td>\n",
       "      <td>5750</td>\n",
       "      <td>*Name*: Vikas Singh.\\n*Skills*: SECURITY (5 ye...</td>\n",
       "    </tr>\n",
       "    <tr>\n",
       "      <th>34</th>\n",
       "      <td>Khushboo Choudhary\\nDeveloper\\n\\nNoida, Uttar ...</td>\n",
       "      <td>[{'label': ['Skills'], 'points': [{'start': 14...</td>\n",
       "      <td>{'Skills': 'ANDROID (Less than 1 year), CISCO ...</td>\n",
       "      <td>1874</td>\n",
       "      <td>*Name*: Khushboo Choudhary.\\n*Skills*: ANDROID...</td>\n",
       "    </tr>\n",
       "    <tr>\n",
       "      <th>46</th>\n",
       "      <td>Navas Koya\\nTest Engineer\\n\\nMangalore, Karnat...</td>\n",
       "      <td>[{'label': ['Skills'], 'points': [{'start': 21...</td>\n",
       "      <td>{'Skills': 'SKILL SET • ASP.NET, C# • QA tools...</td>\n",
       "      <td>2404</td>\n",
       "      <td>*Name*: Navas Koya.\\n*Skills*: SKILL SET • ASP...</td>\n",
       "    </tr>\n",
       "    <tr>\n",
       "      <th>111</th>\n",
       "      <td>Zaheer Uddin\\nTechnical Project Manager\\n\\nHyd...</td>\n",
       "      <td>[{'label': ['Location'], 'points': [{'start': ...</td>\n",
       "      <td>{'Location': 'Hyderabad\n",
       "Hyderabad', 'College N...</td>\n",
       "      <td>4993</td>\n",
       "      <td>*Name*: Zaheer Uddin.\\n*College Name*: Osmania...</td>\n",
       "    </tr>\n",
       "    <tr>\n",
       "      <th>80</th>\n",
       "      <td>Shreyanshu Gupta\\nSoftware Development Enginee...</td>\n",
       "      <td>[{'label': ['Skills'], 'points': [{'start': 41...</td>\n",
       "      <td>{'Skills': 'GIT\n",
       "HTML\n",
       "PHP\n",
       "Web Development\n",
       "Veloc...</td>\n",
       "      <td>4193</td>\n",
       "      <td>*Name*: Shreyanshu Gupta.\\n*Skills*: GIT\\nHTML...</td>\n",
       "    </tr>\n",
       "  </tbody>\n",
       "</table>\n",
       "</div>"
      ],
      "text/plain": [
       "                                               content  \\\n",
       "99   Vikas Singh\\nChandigarh, Chandigarh - Email me...   \n",
       "34   Khushboo Choudhary\\nDeveloper\\n\\nNoida, Uttar ...   \n",
       "46   Navas Koya\\nTest Engineer\\n\\nMangalore, Karnat...   \n",
       "111  Zaheer Uddin\\nTechnical Project Manager\\n\\nHyd...   \n",
       "80   Shreyanshu Gupta\\nSoftware Development Enginee...   \n",
       "\n",
       "                                            annotation  \\\n",
       "99   [{'label': ['Skills'], 'points': [{'start': 53...   \n",
       "34   [{'label': ['Skills'], 'points': [{'start': 14...   \n",
       "46   [{'label': ['Skills'], 'points': [{'start': 21...   \n",
       "111  [{'label': ['Location'], 'points': [{'start': ...   \n",
       "80   [{'label': ['Skills'], 'points': [{'start': 41...   \n",
       "\n",
       "                                             highlight  length  \\\n",
       "99   {'Skills': 'SECURITY (5 years), INFORMATION SE...    5750   \n",
       "34   {'Skills': 'ANDROID (Less than 1 year), CISCO ...    1874   \n",
       "46   {'Skills': 'SKILL SET • ASP.NET, C# • QA tools...    2404   \n",
       "111  {'Location': 'Hyderabad\n",
       "Hyderabad', 'College N...    4993   \n",
       "80   {'Skills': 'GIT\n",
       "HTML\n",
       "PHP\n",
       "Web Development\n",
       "Veloc...    4193   \n",
       "\n",
       "                                               summary  \n",
       "99   *Name*: Vikas Singh.\\n*Skills*: SECURITY (5 ye...  \n",
       "34   *Name*: Khushboo Choudhary.\\n*Skills*: ANDROID...  \n",
       "46   *Name*: Navas Koya.\\n*Skills*: SKILL SET • ASP...  \n",
       "111  *Name*: Zaheer Uddin.\\n*College Name*: Osmania...  \n",
       "80   *Name*: Shreyanshu Gupta.\\n*Skills*: GIT\\nHTML...  "
      ]
     },
     "execution_count": 12,
     "metadata": {},
     "output_type": "execute_result"
    }
   ],
   "source": [
    "resume_hl_df.sample(5)"
   ]
  },
  {
   "cell_type": "code",
   "execution_count": 13,
   "id": "47f621ca-9ebd-48a9-9109-5b80673e27f2",
   "metadata": {},
   "outputs": [],
   "source": [
    "from datasets import Dataset"
   ]
  },
  {
   "cell_type": "code",
   "execution_count": 14,
   "id": "fe0cd4d8-c4c8-46d0-aeb6-4e2bf8256af2",
   "metadata": {},
   "outputs": [],
   "source": [
    "dataset = Dataset.from_pandas(resume_hl_df)"
   ]
  },
  {
   "cell_type": "code",
   "execution_count": 17,
   "id": "65727b10-5d26-487e-85b5-b358e3671b3b",
   "metadata": {},
   "outputs": [],
   "source": [
    "ds = dataset.train_test_split(test_size=0.3)"
   ]
  },
  {
   "cell_type": "code",
   "execution_count": 18,
   "id": "da3087f5-c7e2-46ce-ade3-5519f4e259ad",
   "metadata": {},
   "outputs": [
    {
     "data": {
      "text/plain": [
       "DatasetDict({\n",
       "    train: Dataset({\n",
       "        features: ['content', 'annotation', 'highlight', 'length', 'summary'],\n",
       "        num_rows: 154\n",
       "    })\n",
       "    test: Dataset({\n",
       "        features: ['content', 'annotation', 'highlight', 'length', 'summary'],\n",
       "        num_rows: 66\n",
       "    })\n",
       "})"
      ]
     },
     "execution_count": 18,
     "metadata": {},
     "output_type": "execute_result"
    }
   ],
   "source": [
    "ds"
   ]
  },
  {
   "cell_type": "code",
   "execution_count": 19,
   "id": "7fb66c08-fa10-4e91-8114-a2f0defbc890",
   "metadata": {},
   "outputs": [
    {
     "data": {
      "application/vnd.jupyter.widget-view+json": {
       "model_id": "6b5cdb3eba1c4df5964969520e72aae4",
       "version_major": 2,
       "version_minor": 0
      },
      "text/plain": [
       "Uploading the dataset shards:   0%|          | 0/1 [00:00<?, ?it/s]"
      ]
     },
     "metadata": {},
     "output_type": "display_data"
    },
    {
     "data": {
      "application/vnd.jupyter.widget-view+json": {
       "model_id": "8e22dcccfdd64e35ac096de961299b5e",
       "version_major": 2,
       "version_minor": 0
      },
      "text/plain": [
       "Creating parquet from Arrow format:   0%|          | 0/1 [00:00<?, ?ba/s]"
      ]
     },
     "metadata": {},
     "output_type": "display_data"
    },
    {
     "data": {
      "application/vnd.jupyter.widget-view+json": {
       "model_id": "ceb6caaf2d774a06a63de7ef369e8a8b",
       "version_major": 2,
       "version_minor": 0
      },
      "text/plain": [
       "Uploading the dataset shards:   0%|          | 0/1 [00:00<?, ?it/s]"
      ]
     },
     "metadata": {},
     "output_type": "display_data"
    },
    {
     "data": {
      "application/vnd.jupyter.widget-view+json": {
       "model_id": "9cd78d9f5d2d47a787029d36648534d8",
       "version_major": 2,
       "version_minor": 0
      },
      "text/plain": [
       "Creating parquet from Arrow format:   0%|          | 0/1 [00:00<?, ?ba/s]"
      ]
     },
     "metadata": {},
     "output_type": "display_data"
    },
    {
     "data": {
      "text/plain": [
       "CommitInfo(commit_url='https://huggingface.co/datasets/jbeiroa/resume_entities_ner_summaries/commit/8939e0b6d24e740a8d18c4b2cc64a549bc47f7af', commit_message='Upload dataset', commit_description='', oid='8939e0b6d24e740a8d18c4b2cc64a549bc47f7af', pr_url=None, repo_url=RepoUrl('https://huggingface.co/datasets/jbeiroa/resume_entities_ner_summaries', endpoint='https://huggingface.co', repo_type='dataset', repo_id='jbeiroa/resume_entities_ner_summaries'), pr_revision=None, pr_num=None)"
      ]
     },
     "execution_count": 19,
     "metadata": {},
     "output_type": "execute_result"
    }
   ],
   "source": [
    "ds.push_to_hub('jbeiroa/resume_entities_ner_summaries')"
   ]
  },
  {
   "cell_type": "code",
   "execution_count": null,
   "id": "ecb7e19c-79b9-463c-a676-f4871993f413",
   "metadata": {},
   "outputs": [],
   "source": []
  }
 ],
 "metadata": {
  "kernelspec": {
   "display_name": "Python 3 (ipykernel)",
   "language": "python",
   "name": "python3"
  },
  "language_info": {
   "codemirror_mode": {
    "name": "ipython",
    "version": 3
   },
   "file_extension": ".py",
   "mimetype": "text/x-python",
   "name": "python",
   "nbconvert_exporter": "python",
   "pygments_lexer": "ipython3",
   "version": "3.12.4"
  }
 },
 "nbformat": 4,
 "nbformat_minor": 5
}
