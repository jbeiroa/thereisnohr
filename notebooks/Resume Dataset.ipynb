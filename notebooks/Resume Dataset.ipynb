{
 "cells": [
  {
   "cell_type": "markdown",
   "id": "ee5fee1f-f37d-4657-806e-afd2ca4da364",
   "metadata": {},
   "source": [
    "# Resume dataset"
   ]
  },
  {
   "cell_type": "markdown",
   "id": "4752ed7e-1d5b-48e5-823b-37f10b386d0f",
   "metadata": {},
   "source": [
    "The dataset is created by joining three datasets:\n",
    "\n",
    "- [Resume Entities for NER](https://www.kaggle.com/datasets/dataturks/resume-entities-for-ner)\n",
    "- [Resume Section Classification](https://huggingface.co/datasets/DevashishBhake/resume_section_classification)\n",
    "- [Training Data Llama2 Resume Distiller](https://huggingface.co/datasets/gautamsabba/training_data_llama2_resume_distiller).\n",
    "- [Resume dataset from livecareer.com](https://www.kaggle.com/datasets/snehaanbhawal/resume-dataset)\n",
    "- [AI Rectruitment Pipeline Dataset](https://www.kaggle.com/datasets/yaswanthkumary/ai-recruitment-pipeline-dataset/data)\n",
    "\n",
    "This five datasets contain many resumes from different sources, they will be joined in only one dataset for summarizing using OpenAI API."
   ]
  },
  {
   "cell_type": "code",
   "execution_count": 1,
   "id": "bb7b9999-e9a4-4b51-b064-c19864adeae0",
   "metadata": {},
   "outputs": [],
   "source": [
    "import os\n",
    "import re\n",
    "import json\n",
    "import kagglehub\n",
    "import pandas as pd\n",
    "from collections import defaultdict\n",
    "from huggingface_hub import login\n",
    "from datasets import load_dataset"
   ]
  },
  {
   "cell_type": "code",
   "execution_count": 2,
   "id": "0469031a-d462-42cb-a138-9d869e208508",
   "metadata": {},
   "outputs": [
    {
     "data": {
      "application/vnd.jupyter.widget-view+json": {
       "model_id": "f8cb7729b1ab4c2591277d654de40d93",
       "version_major": 2,
       "version_minor": 0
      },
      "text/plain": [
       "VBox(children=(HTML(value='<center> <img\\nsrc=https://huggingface.co/front/assets/huggingface_logo-noborder.sv…"
      ]
     },
     "metadata": {},
     "output_type": "display_data"
    }
   ],
   "source": [
    "login()"
   ]
  },
  {
   "cell_type": "code",
   "execution_count": 3,
   "id": "b64c43b8-621e-4061-b811-dbd2e3a54d9a",
   "metadata": {},
   "outputs": [
    {
     "name": "stdout",
     "output_type": "stream",
     "text": [
      "Warning: Looks like you're using an outdated `kagglehub` version (installed: 0.3.5), please consider upgrading to the latest version (0.3.12).\n"
     ]
    }
   ],
   "source": [
    "# resume Entities for NER dataset from kaggle\n",
    "path = kagglehub.dataset_download(\"dataturks/resume-entities-for-ner\")\n",
    "# functions by K Scott Mader in https://www.kaggle.com/code/kmader/finding-good-parts-of-resumes/notebook\n",
    "base_json = path + '/Entity Recognition in Resumes.json'\n",
    "def pop_annot(raw_line):\n",
    "    in_line = defaultdict(list, **raw_line)\n",
    "    if 'annotation' in in_line:\n",
    "        labels = in_line['annotation']\n",
    "        for c_lab in labels:\n",
    "            if len(c_lab['label'])>0:\n",
    "                in_line[c_lab['label'][0]] += c_lab['points']\n",
    "    return in_line\n",
    "with open(base_json, 'r') as f:\n",
    "    # data is jsonl and so we parse it line-by-line\n",
    "    resume_data = [json.loads(f_line) for f_line in f.readlines()]\n",
    "    df1 = pd.DataFrame([pop_annot(line) for line in resume_data])"
   ]
  },
  {
   "cell_type": "code",
   "execution_count": 4,
   "id": "af16d6a3-7b10-4018-8ce4-457a95e1573e",
   "metadata": {},
   "outputs": [],
   "source": [
    "def remove_indeed_links(text):\n",
    "    # Regex pattern to match URLs ending in \"=IN\"\n",
    "    pattern = r\"https?://www\\.indeed\\.com/r/[\\w-]+/\\w+\\?[^\\s]*\"\n",
    "    return re.sub(pattern, \"\", text).strip()\n",
    "\n",
    "df1['content'] = df1['content'].map(remove_indeed_links)"
   ]
  },
  {
   "cell_type": "code",
   "execution_count": 5,
   "id": "c6e50285-d0d2-4af9-8c72-4fdc621e273f",
   "metadata": {},
   "outputs": [
    {
     "name": "stdout",
     "output_type": "stream",
     "text": [
      "0    Abhishek Jha\\nApplication Development Associate - Accenture\\n\\nBengaluru, Karnataka - Email me on Indeed: indeed.com/r/Abhishek-Jha/10e7a8cb732bc43a\\n\\n• To work for an organization which provides me the opportunity to improve my skills\\nand knowledge for my individual and company's growth in best possible ways.\\n\\nWilling to relocate to: Bangalore, Karnataka\\n\\nWORK EXPERIENCE\\n\\nApplication Development Associate\\n\\nAccenture -\\n\\nNovember 2017 to Present\\n\\nRole: Currently working on Chat-bot. Developing Backend Oracle PeopleSoft Queries\\nfor the Bot which will be triggered based on given input. Also, Training the bot for different possible\\nutterances (Both positive and negative), which will be given as\\ninput by the user.\\n\\nEDUCATION\\n\\nB.E in Information science and engineering\\n\\nB.v.b college of engineering and technology -  Hubli, Karnataka\\n\\nAugust 2013 to June 2017\\n\\n12th in Mathematics\\n\\nWoodbine modern school\\n\\nApril 2011 to March 2013\\n\\n10th\\n\\nKendriya Vidyalaya\\n\\nApril 2001 to March 2011\\n\\nSKILLS\\n\\nC (Less than 1 year), Database (Less than 1 year), Database Management (Less than 1 year),\\nDatabase Management System (Less than 1 year), Java (Less than 1 year)\\n\\nADDITIONAL INFORMATION\\n\\nTechnical Skills\\n\\n\\n\\n\\n• Programming language: C, C++, Java\\n• Oracle PeopleSoft\\n• Internet Of Things\\n• Machine Learning\\n• Database Management System\\n• Computer Networks\\n• Operating System worked on: Linux, Windows, Mac\\n\\nNon - Technical Skills\\n\\n• Honest and Hard-Working\\n• Tolerant and Flexible to Different Situations\\n• Polite and Calm\\n• Team-Player\n",
      "Name: content, dtype: object\n"
     ]
    }
   ],
   "source": [
    "with pd.option_context('display.max_colwidth', None):\n",
    "    print(df1.content.head(1))"
   ]
  },
  {
   "cell_type": "code",
   "execution_count": 6,
   "id": "b197ba89-7af4-403f-b1a5-2aaf055300cf",
   "metadata": {},
   "outputs": [],
   "source": [
    "df2 = load_dataset('DevashishBhake/resume_section_classification', split='train').to_pandas()"
   ]
  },
  {
   "cell_type": "code",
   "execution_count": 7,
   "id": "140f91fa-304b-4b29-9629-7aa1a9148313",
   "metadata": {},
   "outputs": [
    {
     "name": "stdout",
     "output_type": "stream",
     "text": [
      "0    b'John H. Smith, P.H.R.\\n800-991-5187 | PO Box 1673 | Callahan, FL 32011 | info@greatresumesfast.com\\n\\nApproachable innovator with a passion for Human Resources.\\n\\nSENIOR HUMAN RESOURCES PROFESSIONAL\\nPersonable, analytical, flexible Senior HR Professional with multifaceted expertise. Seasoned Benefits Administrator with\\nextensive experience working with highly paid professionals in client-relationship-based settings. Dynamic team leader\\ncapable of analyzing alternatives and identifying tough choices while communicating the total value of benefit and\\ncompensation packages to senior level executives and employees.\\n\\nCORE COMPETENCIES\\nBenefits Administration \\xe2\\x80\\x93 Customer Service \\xe2\\x80\\x93 Cost Control \\xe2\\x80\\x93 Recruiting \\xe2\\x80\\x93 Acquisition Management \\xe2\\x80\\x93 Compliance Reporting\\nRetention \\xe2\\x80\\x93 Professional Services \\xe2\\x80\\x93 Domestic & International Benefits \\xe2\\x80\\x93 Collaboration \\xe2\\x80\\x93 Adaptability \\xe2\\x80\\x93 Change Management\\nDefined Contribution Plans \\xe2\\x80\\x93 Auditing \\xe2\\x80\\x93 Negotiation \\xe2\\x80\\x93 Corporate HR Policies \\xe2\\x80\\x93 Full Lifecycle Training \\xe2\\x80\\x93 401(k) \\xe2\\x80\\x93 Form 5500\\nConfidential Files \\xe2\\x80\\x93 EEO-1 \\xe2\\x80\\x93 AAP \\xe2\\x80\\x93 FMLA \\xe2\\x80\\x93 STD \\xe2\\x80\\x93 LTD \\xe2\\x80\\x93 H1-B Visa \\xe2\\x80\\x93 Vets 100 \\xe2\\x80\\x93 EAP \\xe2\\x80\\x93 Processing Payroll\\n\\nHR TECHNOLOGY\\n\\nHRIS Data Management & Auditing \\xe2\\x80\\x93 Ultipro Back Office \\xe2\\x80\\x93 Ultipro Web Connect\\nDeltek Costpoint \\xe2\\x80\\x93 Deltek GCS Premiere \\xe2\\x80\\x93 Cognos \\xe2\\x80\\x93 ADP\\n\\nProfessional Experience\\nHUMAN SERVICES, INC. \\xe2\\x80\\x93 Tampa, FL\\n\\n2010\\xe2\\x80\\x93Present\\n\\nProviding institutional behavioral health and medical management contracting services | 2,500 employees\\n\\nBenefits Manager\\nManage and administer a robust $13M health and welfare program; administer benefits programs for two smaller\\nminority business enterprise clients. Deliver excellence in client services, leveraging interpersonal skills to establish\\nrapport with team members. Perform cost analysis, gather claims data, coordinate enrollment and more for a large selffunded medical plan plus two smaller fully-insured plans. Analyze data and projections to create forecasts in narrative\\nand graph format; clearly and succinctly communicate trends to senior management in meetings. Directly supervise\\nstaff of 3: HR Admin, plus two Human Resource specialists.\\n\\xef\\x81\\xb3 Lead Healthcare Reform change management process, analyzing changes, developing strategic plans, and\\n\\ntimeline for crucial decisions ahead of 2014 deadlines. Communicate early changes in dependent coverage,\\npreventive care, and lifetime maximum benefits to employees.\\n\\n\\xef\\x81\\xb3 Identified, researched, and implemented HSA (Healthcare Savings Account) health insurance option for high-\\n\\ndeductible health insurance plan to provide tax-sheltered benefits for physicians and other high-income, highprofile professionals.\\n\\n\\xef\\x81\\xb3 Saved $30K annually by restructuring the open enrollment strategy, leveraging existing human capital and HR\\n\\nbusiness partners to achieve better communication at lower cost.\\n\\n\\xef\\x81\\xb3 Quickly establish rapport with employees; balance client-relationship needs with organizational goals, cost\\n\\ncontrols, and compliance requirements to create a positive work environment.\\n\\n\\xef\\x81\\xb3 Maximize employee recruiting and retention by implementing competitive benefits packages and clearly\\n\\ncommunicating their value to team members.\\n\\n\\xef\\x81\\xb3 Reduced costs $20K per year by collaborating closely with legal department to create an in-house total comp\\n\\nstatement including implications for taxes and social security; produced a better-quality analysis at lower costs.\\n\\n\\x0cJohn H. Smith, P.H.R. \\xe2\\x80\\x93 PAGE 2\\n\\n800-991-5187|info@greatresumesfast.com\\n\\nApproachable innovator with a passion for Human Resources.\\nHUMAN MANAGEMENT INC. \\xe2\\x80\\x93 Atlanta, GA\\n\\n2008\\xe2\\x80\\x932010\\n\\nNonprofit government consulting firm | 1,200 domestic and international employees\\n\\nSenior Human Resources Generalist\\nPerformed diverse Human Resources functions: administered benefits, led special projects, updated policies,\\ncollaborated on EEO-1, Vets 100, and Affirmative Action Plan (AAP) reporting. Revamped orientation and training\\nprograms for newly hired employees to include comprehensive information delivered in more-personal formats:\\nteleconferences, small group meetings, tours, and one-on-one conversations, with follow-up phone calls. Supervised HR\\nAssistant and up to 3 temporary Human Resource specialists handling high volume of work during peak periods such as\\nopen enrollment and company merger.\\n\\xef\\x81\\xb3 Led change management process that seamlessly integrated benefits, compensation, retirement plans, and\\n\\nlogistics for newly acquired company with 60+ employees; prepared all-encompassing reports on total\\ncompensation plans.\\n\\n\\xef\\x81\\xb3 Developed webinars and personal meetings to communicate value of benefits to employees despite reductions\\n\\nduring an economic recession; maintained employee retention and job satisfaction rankings despite cutbacks.\\n\\n\\xef\\x81\\xb3 Reduced overall benefit costs 10% including a decrease in STD benefits from 100% to 75% of base\\n\\ncompensation without significant increase in employee turnover.\\n\\n\\xef\\x81\\xb3 Researched and procured benefits for government contractors traveling to hazardous areas including Kidnap &\\n\\nRansom (K&R), increased life insurance, and travel insurance.\\n\\n\\xef\\x81\\xb3 Identified and implemented medical and dental benefit plans to ensure comparable compensation for\\n\\ninternational employees worldwide.\\n\\n\\xef\\x81\\xb3 Managed diverse retirement plans including defined contribution 403(b), 401(a), and executive 457(b) plans.\\n\\nABC CORPORATION \\xe2\\x80\\x93 New York, NY\\n\\n2007\\xe2\\x80\\x932008\\n\\nEngineering and Construction consulting | 500 international and domestic employees\\nSenior Human Resources Generalist\\nACME, INC. \\xe2\\x80\\x93 Washington, D.C.\\n\\n2004\\xe2\\x80\\x932006\\n\\nProfessional services consulting firm | 300 employees\\nHR Generalist / Benefits Specialist\\n\\nHUMAN RESOURCE CORPORATION \\xe2\\x80\\x93 Tampa, FL\\nIT & environmental management consulting firm | 300 employees\\nHuman Resources Assistant\\n\\nEducation, Certification, & Affiliation\\nBachelor of Science in Psychology, 2002\\nCOMMUNITY COLLEGE\\nProfessional in Human Resources (PHR) Certificate, 2010\\nEmployee Benefit Specialist (CEBS), Certification Pending\\nMember SHRM \\xe2\\x80\\x93 Society for Human Resource Management\\n\\n2002\\xe2\\x80\\x932004'\n",
      "Name: Resume, dtype: object\n"
     ]
    }
   ],
   "source": [
    "with pd.option_context('display.max_colwidth', None):\n",
    "    print(df2.Resume.head(1))"
   ]
  },
  {
   "cell_type": "code",
   "execution_count": 8,
   "id": "f34e6566-609f-4aee-85c9-704fdf1b3063",
   "metadata": {},
   "outputs": [
    {
     "name": "stderr",
     "output_type": "stream",
     "text": [
      "Repo card metadata block was not found. Setting CardData to empty.\n",
      "Repo card metadata block was not found. Setting CardData to empty.\n"
     ]
    }
   ],
   "source": [
    "df3_1 = load_dataset('gautamsabba/training_data_llama2_resume_distiller', split='train').to_pandas()\n",
    "df3_2 = load_dataset('gautamsabba/training_data_llama2_resume_distiller', split='test').to_pandas()"
   ]
  },
  {
   "cell_type": "code",
   "execution_count": 9,
   "id": "b12bcc07-61fe-4b70-a568-9fe3ce29a929",
   "metadata": {},
   "outputs": [
    {
     "data": {
      "image/png": "[encoded data removed]",
      "text/plain": [
       "<Figure size 1000x600 with 1 Axes>"
      ]
     },
     "metadata": {},
     "output_type": "display_data"
    }
   ],
   "source": [
    "import matplotlib.pyplot as plt\n",
    "import seaborn as sns\n",
    "\n",
    "df3_1['char_count'] = df3_1['text'].str.len()\n",
    "df3_2['char_count'] = df3_2['text'].str.len()\n",
    "\n",
    "plt.figure(figsize=(10, 6))\n",
    "sns.histplot(df3_1['char_count'], bins=30)\n",
    "plt.xlabel(\"Character Count\")\n",
    "plt.ylabel(\"Frequency\")\n",
    "plt.title(\"Distribution of Character Counts in Dataset\")\n",
    "plt.show()"
   ]
  },
  {
   "cell_type": "markdown",
   "id": "3d155222-b019-488f-b302-eedffc9bda6f",
   "metadata": {},
   "source": [
    "Most resumes are probably between 2000 characters and 8000 (the other are lines where the resume is mixed with something else)."
   ]
  },
  {
   "cell_type": "code",
   "execution_count": 10,
   "id": "8ce261af-340a-447b-8648-83a9ebac3899",
   "metadata": {},
   "outputs": [],
   "source": [
    "df3_a = df3_1[(df3_1['char_count'] > 1500) & (df3_1['char_count'] < 10000)]\n",
    "df3_b = df3_2[(df3_2['char_count'] > 1500) & (df3_2['char_count'] < 10000)]\n",
    "df3 = pd.concat([df3_a, df3_b], ignore_index=True)"
   ]
  },
  {
   "cell_type": "code",
   "execution_count": 11,
   "id": "a9a1e9c5-0517-49f2-ac37-29171c6eb53d",
   "metadata": {},
   "outputs": [
    {
     "name": "stdout",
     "output_type": "stream",
     "text": [
      "0    Vamsi Krishna Kondapuneni Senior Information Security Analyst As an experienced cybersecurity professional with around 7 years of Contact handson experience have expertise in implementing security solutions such as firewalls VPNs and SIEM tools Performed security assessments Address identified vulnerabilities and recommended remediation strategies Lewisville Texas 75067 while maintaining a focus on GRC including policy development and Phone compliance auditing Pursued relevant certifications and regularly 4698770742 attend industry events which enables to stay current with the latest Email trends and technologies As a committed and resultsdriven vk245@outlookcom cybersecurity professional thrive in fastpaced environments and able to adapt quickly to new challenges and emerging threats LinkedIn wwwlinkedincominvamsi krishnakondapuneni Work History WWW Lead Security Analyst 202201  httpszetycomprofileva 202302 msikrishna133 Société Générale New York NY  Conducted risk assessments for various business units and applications ensuring compliance with Skills GDPR PCI DSS and NIST framework  Developed and implemented risk mitigation plans SIEM QRadar McAfee ESM to address identified vulnerabilities and threats in ArcSight Splunk accordance with industry standards and best McAfee DAM DLP EPO practices SIEM  Reviewed and updated security policies and procedures ensuring they align with GDPR PCI DSS Monitoring Tools Solar and NIST framework requirements Winds TRIPWIRE File  Collaborated with business and technical teams to Integrity Monitoring identify and prioritize risks based on likelihood and VARNOIS CyberArk impact of potential incidents PKI Public key  Conducted gap analysis to identify areas of non infrastructure Check point compliance and recommended remediation CyberArk activities to improve overall security posture of organization Compliance PCI DSS  Provided guidance and recommendations to GDPR NIST Framework SP stakeholders on risk management and mitigation 800 strategies including implementing controls to Risk Management Change reduce risk of data breaches  Added around 200 critical servers to FIM using Management Incident SCCM or PUPPET and Established FIM component for Management PCI DSS compliance  Managing VARONIS product and team  Troubleshooting flow between VERONIS components  Successfully completed PCIDSS audit for FIM  Created SLAs and KPI for projects and streamlined flow of work  Created incident management cycle for FIM and VARNOIS incidents  Created RACI model for projects with coordinating all internal teams  Understanding of PSM and categorizing nodes for PSM  Assigning criticality of files and helping DLP team in developing rules preventing Data Loss Prevention Technical Support Engineer 201909  202201 McAfee Inc Bangalore Karnataka  Analyzed SIEM and DAM issues to identify troubleshooting methods needed for quick remediation  Performed root cause analysis of reported issues to decisively discern and enact corrections  Broke down and evaluated user problems using test scripts personal expertise and probing questions  Managing more than 30 customer case per day  Understanding and working on Kafka  Working on Linux environment  Strong knowledge on protocols like SYSLOG WMI RPC OPSEC JDBC SQL  Implementation of SIEM and DAM  Strong knowledge on Rules Alarm and Parser creation  Implementation of parsers using PCRE Regular expressions  Following trend in attack vectors and creating appropriate detection rule Senior Security Analyst 201804  201909 Sattrix Information Security P Ltd Abu Dhabi Abu Dhabi  Handing SOC operations with technologies like SIEM Firewall and EDR  Implantation of ARCSIGHT SIEM and integration of data sources  Creating Parser for inhouse applications  Creation of dashboards Reports Usecases as per logs received  Creation of SOPs for rules  Implementation of incident response Plan and categorization criteria of incidents  Demonstrated expertise in designing deploying and managing Splunk SIEM in complex enterprise environments  Configured and optimized Splunk dashboards and reports to provide realtime insights into security events and incidents  Conducted log analysis threat hunting and incident response using Splunk SIEM to identify and mitigate security risks  Analyzing Alerts and categorizing them as incidents and mitigation and following incident response plan  Analyzing logs from different data sources and Writing correlations rules to identify threats  Importing content packs as per attack strategies  Decreased security incidents by 10 through performing false positive analysis  Established companywide security best practices and protocols to mitigate risk of data breach  Recommend improvements in security systems and procedures Information Security Analyst 201606  201804 Wipro Technologies Pune Maharashtra  Analyzing logs from 20000 thousand data sources using QRADAR  Reporting incidents providing possible mitigation computer security incident response team CSIRT  Monitoring Health of device using Solar winds  Performing health checks of event collectors processors and Win collectors using IPMI HP ILO and Dell IDRAC  Managing retention of QRADAR logs and events  Perform EICAR test for AVs spam email for mail gateway testing and BCP testing  Performing regular windows and QRADAR patching activities  Performing DR actives  Performed risk analyses to identify appropriate security countermeasures  Conducted security audits to identify vulnerabilities  Quickly learned new skills and applied them to daily tasks improving efficiency and productivity Academic Internship in Cyber Security 201507  201605 Wipro Technologies Hyderabad Telangana  Proficient in managing and configured CyberArk Check Point DLP and PKI technologies  Strong understanding of core concepts of cyber security including threat modeling risk management and incident response  Knowledgeable in encryption mechanisms and protocols such as AES RSA SSL and TLS and experience in implementing secure communications and data protection strategies  Strong understanding of network security including firewalls intrusion detection and prevention systems and VPN technologies  Experience working in team environment with excellent communication skills and ability to collaborate effectively with crossfunctional teams to achieve common goals Education 201204  B Tech Computer Science and Engineering 201605 Koneru Lakshmaiah University  Vijayawada India Certifications 202207 COMPTIA Security 202212 ISC2 Certified in cybersecurity 202212 Certified VARONIS Administrator 202302 Certified Information Systems Auditor CISA [/INST] Name of the candidate: Vamsi Krishna Kondapuneni\n",
      "Name: text, dtype: object\n"
     ]
    }
   ],
   "source": [
    "with pd.option_context('display.max_colwidth', None):\n",
    "    print(df3.text.head(1))"
   ]
  },
  {
   "cell_type": "code",
   "execution_count": 12,
   "id": "457b5a81-9a3f-4c38-9283-cf413ddcb902",
   "metadata": {},
   "outputs": [
    {
     "name": "stdout",
     "output_type": "stream",
     "text": [
      "Warning: Looks like you're using an outdated `kagglehub` version (installed: 0.3.5), please consider upgrading to the latest version (0.3.12).\n",
      "/Users/juanbeiroa/.cache/kagglehub/datasets/snehaanbhawal/resume-dataset/versions/1\n"
     ]
    }
   ],
   "source": [
    "path = kagglehub.dataset_download(\"snehaanbhawal/resume-dataset\")\n",
    "print(path)"
   ]
  },
  {
   "cell_type": "code",
   "execution_count": 13,
   "id": "7148917d-a282-43af-9003-610de21a9895",
   "metadata": {},
   "outputs": [],
   "source": [
    "file = path + '/Resume/Resume.csv'\n",
    "df4 = pd.read_csv(file)"
   ]
  },
  {
   "cell_type": "code",
   "execution_count": 14,
   "id": "cf06824c-60c6-4423-8901-e72165f8ce43",
   "metadata": {},
   "outputs": [
    {
     "name": "stdout",
     "output_type": "stream",
     "text": [
      "0             HR ADMINISTRATOR/MARKETING ASSOCIATE\\n\\nHR ADMINISTRATOR       Summary     Dedicated Customer Service Manager with 15+ years of experience in Hospitality and Customer Service Management.   Respected builder and leader of customer-focused teams; strives to instill a shared, enthusiastic commitment to customer service.         Highlights         Focused on customer satisfaction  Team management  Marketing savvy  Conflict resolution techniques     Training and development  Skilled multi-tasker  Client relations specialist           Accomplishments      Missouri DOT Supervisor Training Certification  Certified by IHG in Customer Loyalty and Marketing by Segment   Hilton Worldwide General Manager Training Certification  Accomplished Trainer for cross server hospitality systems such as    Hilton OnQ  ,   Micros    Opera PMS   , Fidelio    OPERA    Reservation System (ORS) ,   Holidex    Completed courses and seminars in customer service, sales strategies, inventory control, loss prevention, safety, time management, leadership and performance assessment.        Experience      HR Administrator/Marketing Associate\\n\\nHR Administrator     Dec 2013   to   Current      Company Name   －   City  ,   State     Helps to develop policies, directs and coordinates activities such as employment, compensation, labor relations, benefits, training, and employee services.  Prepares employee separation notices and related documentation  Keeps records of benefits plans participation such as insurance and pension plan, personnel transactions such as hires, promotions, transfers, performance reviews, and terminations, and employee statistics for government reporting.  Advises management in appropriate resolution of employee relations issues.  Administers benefits programs such as life, health, dental, insurance, pension plans, vacation, sick leave, leave of absence, and employee assistance.     Marketing Associate     Designed and created marketing collateral for sales meetings, trade shows and company executives.  Managed the in-house advertising program consisting of print and media collateral pieces.  Assisted in the complete design and launch of the company's website in 2 months.  Created an official company page on Facebook to facilitate interaction with customers.  Analyzed ratings and programming features of competitors to evaluate the effectiveness of marketing strategies.         Advanced Medical Claims Analyst     Mar 2012   to   Dec 2013      Company Name   －   City  ,   State     Reviewed medical bills for the accuracy of the treatments, tests, and hospital stays prior to sanctioning the claims.  Trained to interpret the codes (ICD-9, CPT) and terminology commonly used in medical billing to fully understand the paperwork that is submitted by healthcare providers.  Required to have organizational and analytical skills as well as computer skills, knowledge of medical terminology and procedures, statistics, billing standards, data analysis and laws regarding medical billing.         Assistant General Manager     Jun 2010   to   Dec 2010      Company Name   －   City  ,   State     Performed duties including but not limited to, budgeting and financial management, accounting, human resources, payroll and purchasing.  Established and maintained close working relationships with all departments of the hotel to ensure maximum operation, productivity, morale and guest service.  Handled daily operations and reported directly to the corporate office.  Hired and trained staff on overall objectives and goals with an emphasis on high customer service.  Marketing and Advertising, working on public relations with the media, government and local businesses and Chamber of Commerce.         Executive Support / Marketing Assistant     Jul 2007   to   Jun 2010      Company Name   －   City  ,   State     Provided assistance to various department heads - Executive, Marketing, Customer Service, Human Resources.  Managed front-end operations to ensure friendly and efficient transactions.  Ensured the swift resolution of customer issues to preserve customer loyalty while complying with company policies.  Exemplified the second-to-none customer service delivery in all interactions with customers and potential clients.         Reservation & Front Office Manager     Jun 2004   to   Jul 2007      Company Name   －   City  ,   State          Owner/ Partner     Dec 2001   to   May 2004      Company Name   －   City  ,   State          Price Integrity Coordinator     Aug 1999   to   Dec 2001      Company Name   －   City  ,   State          Education      N/A  ,   Business Administration   1999     Jefferson College   －   City  ,   State       Business Administration  Marketing / Advertising         High School Diploma  ,   College Prep. studies   1998     Sainte Genevieve Senior High   －   City  ,   State       Awarded American Shrubel Leadership Scholarship to Jefferson College         Skills     Accounting, ads, advertising, analytical skills, benefits, billing, budgeting, clients, Customer Service, data analysis, delivery, documentation, employee relations, financial management, government relations, Human Resources, insurance, labor relations, layout, Marketing, marketing collateral, medical billing, medical terminology, office, organizational, payroll, performance reviews, personnel, policies, posters, presentations, public relations, purchasing, reporting, statistics, website.    \n",
      "Name: Resume_str, dtype: object\n"
     ]
    }
   ],
   "source": [
    "with pd.option_context('display.max_colwidth', None):\n",
    "    print(df4.Resume_str.head(1))"
   ]
  },
  {
   "cell_type": "code",
   "execution_count": 15,
   "id": "dcb26736-ae60-42a4-998b-0e94e8624be0",
   "metadata": {},
   "outputs": [
    {
     "data": {
      "text/plain": [
       "Index(['content', 'annotation', 'extras', 'Skills', 'College Name',\n",
       "       'Graduation Year', 'Designation', 'Companies worked at',\n",
       "       'Email Address', 'Location', 'Name', 'Degree', 'Years of Experience',\n",
       "       'UNKNOWN'],\n",
       "      dtype='object')"
      ]
     },
     "execution_count": 15,
     "metadata": {},
     "output_type": "execute_result"
    }
   ],
   "source": [
    "df1.columns"
   ]
  },
  {
   "cell_type": "code",
   "execution_count": 16,
   "id": "39a28fec-393a-4741-bddd-ccb7e590e178",
   "metadata": {},
   "outputs": [
    {
     "data": {
      "text/plain": [
       "Index(['ID', 'Category', 'Resume'], dtype='object')"
      ]
     },
     "execution_count": 16,
     "metadata": {},
     "output_type": "execute_result"
    }
   ],
   "source": [
    "df2.columns"
   ]
  },
  {
   "cell_type": "code",
   "execution_count": 17,
   "id": "a93f1997-56ab-4530-83f4-b304166b7d03",
   "metadata": {},
   "outputs": [
    {
     "data": {
      "text/plain": [
       "Index(['text', 'char_count'], dtype='object')"
      ]
     },
     "execution_count": 17,
     "metadata": {},
     "output_type": "execute_result"
    }
   ],
   "source": [
    "df3.columns"
   ]
  },
  {
   "cell_type": "code",
   "execution_count": 18,
   "id": "01b2d9ae-daf3-490d-876b-92fb2d9ff86a",
   "metadata": {},
   "outputs": [
    {
     "data": {
      "text/plain": [
       "Index(['ID', 'Resume_str', 'Resume_html', 'Category'], dtype='object')"
      ]
     },
     "execution_count": 18,
     "metadata": {},
     "output_type": "execute_result"
    }
   ],
   "source": [
    "df4.columns"
   ]
  },
  {
   "cell_type": "code",
   "execution_count": 19,
   "id": "eb6e0ff0-16fe-4b0a-aa2d-8fb06f494107",
   "metadata": {},
   "outputs": [
    {
     "name": "stdout",
     "output_type": "stream",
     "text": [
      "Warning: Looks like you're using an outdated `kagglehub` version (installed: 0.3.5), please consider upgrading to the latest version (0.3.12).\n",
      "Path to dataset files: /Users/juanbeiroa/.cache/kagglehub/datasets/yaswanthkumary/ai-recruitment-pipeline-dataset/versions/1\n"
     ]
    }
   ],
   "source": [
    "path = kagglehub.dataset_download(\"yaswanthkumary/ai-recruitment-pipeline-dataset\")\n",
    "print(\"Path to dataset files:\", path)"
   ]
  },
  {
   "cell_type": "code",
   "execution_count": 20,
   "id": "470e80fe-02a2-46ca-9866-2730af63e7ef",
   "metadata": {},
   "outputs": [
    {
     "data": {
      "text/plain": [
       "Index(['ID', 'Name', 'Role', 'Transcript', 'Resume', 'decision',\n",
       "       'Reason_for_decision', 'Job_Description'],\n",
       "      dtype='object')"
      ]
     },
     "execution_count": 20,
     "metadata": {},
     "output_type": "execute_result"
    }
   ],
   "source": [
    "file = path + '/dataset.csv'\n",
    "df5 = pd.read_csv(file)\n",
    "df5.columns"
   ]
  },
  {
   "cell_type": "code",
   "execution_count": 21,
   "id": "388ae6f0-64a2-43cc-9c01-d799339d6aff",
   "metadata": {},
   "outputs": [],
   "source": [
    "import re\n",
    "\n",
    "df5['Resume'] = df5['Resume'].str.replace(\n",
    "    r\"^Here's .*? resume for .*?: ?\", \"\", regex=True\n",
    ")"
   ]
  },
  {
   "cell_type": "code",
   "execution_count": 22,
   "id": "7db6f45d-8b28-480a-a4c2-8b4d0c38d77a",
   "metadata": {},
   "outputs": [
    {
     "data": {
      "text/plain": [
       "0        \\n\\nJason Jones\\nE-commerce Specialist\\n\\nCont...\n",
       "1        \\n\\nAnn Marshall\\nContact Information:\\n\\n* Em...\n",
       "2        \\n\\nPatrick Mcclain\\nHuman Resources Specialis...\n",
       "3        \\n\\nPatricia Gray\\nContact Information:\\n\\n* E...\n",
       "4        \\n\\nAmanda Gross\\nContact Information:\\n\\n* Em...\n",
       "                               ...                        \n",
       "10169    \\n\\n**Diana Miller**\\n**Contact Information:**...\n",
       "10170    \\n\\n**Grace Taylor**\\n\\n**Contact Information:...\n",
       "10171    \\n\\n**Hank Brown**\\n**UI Engineer**\\n\\n**Conta...\n",
       "10172    \\n\\n**Diana Wilson**\\n**Contact Information:**...\n",
       "10173    \\n\\n**Charlie Miller**\\n**Contact Information:...\n",
       "Name: Resume, Length: 10174, dtype: object"
      ]
     },
     "execution_count": 22,
     "metadata": {},
     "output_type": "execute_result"
    }
   ],
   "source": [
    "df5.Resume"
   ]
  },
  {
   "cell_type": "code",
   "execution_count": 23,
   "id": "75d0db8a-9d99-4e35-b0c7-b83d8ac49c8e",
   "metadata": {},
   "outputs": [
    {
     "name": "stdout",
     "output_type": "stream",
     "text": [
      "0    \\n\\nJason Jones\\nE-commerce Specialist\\n\\nContact Information:\\n\\n* Email: [jasonjones@email.com](mailto:jasonjones@email.com)\\n* Phone: 555-123-4567\\n* LinkedIn: linkedin.com/in/jasonjones\\n\\nSummary:\\nResults-driven E-commerce Specialist with 5+ years of experience in inventory management, SEO, online advertising, and analytics. Proven track record of increasing online sales, improving website traffic, and optimizing inventory levels. Skilled in analyzing complex data sets, identifying trends, and making data-driven decisions. Passionate about staying up-to-date with the latest e-commerce trends and technologies.\\n\\nProfessional Experience:\\n\\nE-commerce Specialist, XYZ Corporation (2018-Present)\\n\\n* Managed inventory levels across multiple channels, resulting in a 25% reduction in stockouts and a 15% reduction in overstocking\\n* Developed and implemented SEO strategies that increased website traffic by 30% and improved search engine rankings by 20%\\n* Created and executed online advertising campaigns that generated a 50% increase in sales and a 20% increase in conversion rates\\n* Analyzed website analytics to identify trends, optimize user experience, and improve customer engagement\\n* Collaborated with cross-functional teams to launch new product lines, promotions, and marketing campaigns\\n\\nE-commerce Coordinator, ABC Retail (2015-2018)\\n\\n* Assisted in managing inventory levels, processing orders, and resolving customer inquiries\\n* Conducted keyword research and optimized product descriptions to improve search engine rankings\\n* Assisted in creating and executing online advertising campaigns, resulting in a 20% increase in sales\\n* Analyzed website analytics to identify trends and areas for improvement\\n\\nEducation:\\n\\n* Bachelor's Degree in Business Administration, [University Name] (2015)\\n\\nSkills:\\n\\n* Inventory Management\\n* SEO for E-commerce\\n* Online Advertising (Google Ads, Facebook Ads)\\n* Analytics (Google Analytics, Excel)\\n* Data Analysis\\n* E-commerce Platforms (Shopify, WooCommerce)\\n* Customer Service\\n\\nAchievements:\\n\\n* Winner of the XYZ Corporation's \"Innovator of the Year\" award for developing and implementing a data-driven approach to inventory management\\n* Featured speaker at the \"E-commerce Summit\" conference, presenting on \"Optimizing Inventory Levels for E-commerce Success\"\\n* Developed and implemented a social media strategy that increased followers by 500% and engagement by 200%\\n\\nCertifications:\\n\\n* Google Analytics Certification\\n* HubSpot Inbound Marketing Certification\\n* Shopify Plus Certification\\n\\nReferences:\\nAvailable upon request.\n",
      "Name: Resume, dtype: object\n"
     ]
    }
   ],
   "source": [
    "with pd.option_context('display.max_colwidth', None):\n",
    "    print(df5.Resume.head(1))"
   ]
  },
  {
   "cell_type": "code",
   "execution_count": 24,
   "id": "6921d6ed-3251-4f3b-af2f-eb6e65e4e187",
   "metadata": {},
   "outputs": [
    {
     "data": {
      "text/plain": [
       "0        Abhishek Jha\\nApplication Development Associat...\n",
       "1        Afreen Jamadar\\nActive member of IIIT Committe...\n",
       "2        Akhil Yadav Polemaina\\nHyderabad, Telangana - ...\n",
       "3        Alok Khandai\\nOperational Analyst (SQL DBA) En...\n",
       "4        Ananya Chavan\\nlecturer - oracle tutorials\\n\\n...\n",
       "                               ...                        \n",
       "14500    \\n\\n**Diana Miller**\\n**Contact Information:**...\n",
       "14501    \\n\\n**Grace Taylor**\\n\\n**Contact Information:...\n",
       "14502    \\n\\n**Hank Brown**\\n**UI Engineer**\\n\\n**Conta...\n",
       "14503    \\n\\n**Diana Wilson**\\n**Contact Information:**...\n",
       "14504    \\n\\n**Charlie Miller**\\n**Contact Information:...\n",
       "Length: 14505, dtype: object"
      ]
     },
     "execution_count": 24,
     "metadata": {},
     "output_type": "execute_result"
    }
   ],
   "source": [
    "df = pd.concat([df1.content, df2.Resume, df3.text, df4.Resume_str, df5.Resume], ignore_index=True)\n",
    "df"
   ]
  },
  {
   "cell_type": "code",
   "execution_count": 25,
   "id": "ae414d4e-ba0f-415f-ba64-f4857e98772a",
   "metadata": {},
   "outputs": [],
   "source": [
    "data = pd.DataFrame(df, columns=[\"Resume\"])"
   ]
  },
  {
   "cell_type": "code",
   "execution_count": 26,
   "id": "c7bca0fa-9882-4928-9ad6-1ff2996d7ceb",
   "metadata": {},
   "outputs": [
    {
     "name": "stdout",
     "output_type": "stream",
     "text": [
      "                                                                                                                                                                                                                                                                                                                                                                                                                                                                                                                                                                                                                                                                                                                                                                                                                                                                                                                                                                                                                                                                                                                                                                                                                                                                                                                                                                                                                                                                                                                                                                                                                                                                                                                                                                                                                                                                                                                                                                                                                                                                                                                                                                                                                                                                                                                                                                                                                                                                                                                                                                                                                                                                                                                                                                                                                                                                                                                                                                                                                                                     Resume\n",
      "14504  \\n\\n**Charlie Miller**\\n**Contact Information:**\\n\\n* Email: [charlie.miller@email.com](mailto:charlie.miller@email.com)\\n* Phone: 555-123-4567\\n* LinkedIn: linkedin.com/in/charliemillerpm\\n* GitHub: github.com/charliemiller\\n\\n**Summary:**\\nResults-driven Product Manager with 5+ years of experience in launching and growing successful products in the tech industry. Proven track record of delivering products on time, on budget, and exceeding customer expectations. Skilled in product development, marketing, and analytics.\\n\\n**Technical Skills:**\\n\\n* Product development and launch planning\\n* Market research and analysis\\n* Cross-functional team leadership\\n* Product roadmapping and prioritization\\n* Agile methodologies (Scrum, Kanban)\\n* Product metrics and analytics (Google Analytics, Mixpanel)\\n* Cloud-based tools (Asana, Trello, Slack)\\n* Data visualization (Tableau, Power BI)\\n* SQL and data querying (MySQL, PostgreSQL)\\n\\n**Experience:**\\n\\n**Product Manager, XYZ Corporation (2018-Present)**\\n\\n* Led the development and launch of multiple products, resulting in 30%+ revenue growth\\n* Collaborated with cross-functional teams (engineering, design, marketing) to define product vision and roadmap\\n* Conducted market research and analysis to inform product development and launch strategy\\n* Developed and executed product launch plans, resulting in 25%+ increase in customer acquisition\\n\\n**Senior Product Manager, ABC Startup (2015-2018)**\\n\\n* Led the development and launch of a mobile app, resulting in 50%+ user growth\\n* Worked with engineering teams to develop and iterate on product features\\n* Conducted user research and testing to inform product development and improve user experience\\n* Developed and managed product roadmaps and prioritization frameworks\\n\\n**Education:**\\n\\n* **Master of Business Administration (MBA)**, Stanford Graduate School of Business (2015)\\n* **Bachelor of Science in Computer Science**, University of California, Berkeley (2010)\\n\\n**Achievements:**\\n\\n* **Product of the Year Award**, XYZ Corporation (2020)\\n* **Top 10 Product Launches**, Product Launch Awards (2019)\\n* **Featured Speaker**, Product Management Conference (2018)\\n\\n**Projects:**\\n\\n* **Product Development and Launch Plan:** Developed and executed a comprehensive product development and launch plan for a new product, resulting in 25%+ revenue growth\\n* **Customer Segmentation Analysis:** Conducted customer segmentation analysis to inform product development and marketing strategy, resulting in 15%+ increase in customer acquisition\\n* **User Experience Redesign:** Led the redesign of a mobile app, resulting in 30%+ increase in user engagement\\n\\n**References:**\\n\\nAvailable upon request.\\n\\nI hope this sample resume helps! Remember to customize the resume to fit your own experiences and qualifications, and don't hesitate to reach out if you have any questions or need further assistance.\n"
     ]
    }
   ],
   "source": [
    "with pd.option_context('display.max_colwidth', None):\n",
    "    print(data.tail(1))"
   ]
  },
  {
   "cell_type": "code",
   "execution_count": 27,
   "id": "216c8e22-f3b5-4188-99e6-9ea4544cb7c3",
   "metadata": {},
   "outputs": [],
   "source": [
    "def clean_resume(text):\n",
    "    if isinstance(text, bytes):\n",
    "        text = text.decode(\"utf-8\", errors=\"ignore\")\n",
    "    if not isinstance(text, str):\n",
    "        return \"\"\n",
    "\n",
    "    text = text.replace(\"\\\\n\", \"\\n\")         # literal \\n\n",
    "    text = text.replace(\"\\n\", \" \")           # normalize newlines\n",
    "    text = text.replace(\"\\r\", \" \")           # remove carriage returns\n",
    "    text = text.encode(\"ascii\", \"ignore\").decode()  # remove non-ASCII\n",
    "    text = ' '.join(text.split())            # remove excess whitespace\n",
    "    return text.strip()\n",
    "\n",
    "data[\"Resume\"] = data[\"Resume\"].apply(clean_resume)"
   ]
  },
  {
   "cell_type": "markdown",
   "id": "7c4c4b20-9dc6-439b-894c-da22ef70dbd1",
   "metadata": {},
   "source": [
    "# Summarizing resumes with OpenAI"
   ]
  },
  {
   "cell_type": "code",
   "execution_count": 28,
   "id": "671720a1-431e-48f2-8b4e-dbbb345fd47b",
   "metadata": {},
   "outputs": [],
   "source": [
    "def create_prompt(resume_text):\n",
    "    return (\n",
    "        \"Summarize the following resume in 3-4 sentences, focusing on key skills, experience, and education.\\n\\n\"\n",
    "        f\"Resume:\\n{resume_text}\"\n",
    "    )\n",
    "\n",
    "data[\"prompt\"] = data[\"Resume\"].apply(create_prompt)"
   ]
  },
  {
   "cell_type": "code",
   "execution_count": 35,
   "id": "f8a0127e-c3f5-48b6-b9a6-afe3b7d7bfec",
   "metadata": {},
   "outputs": [],
   "source": [
    "# extract 5 for few shot prompt\n",
    "extract = data.Resume.sample(5, random_state=42)\n",
    "data.drop(extract.index, inplace=True)"
   ]
  },
  {
   "cell_type": "code",
   "execution_count": 36,
   "id": "7c67bd9b-168a-43b0-bb22-b1e5d38d496e",
   "metadata": {},
   "outputs": [
    {
     "name": "stdout",
     "output_type": "stream",
     "text": [
      "Laura Le Contact Information: * Address: 123 Main St, Anytown, USA 12345 * Phone: (123) 456-7890 * Email: [laurale@email.com](mailto:laurale@email.com) * LinkedIn: linkedin.com/in/laurale Professional Summary: Results-driven Business Analyst with 5+ years of experience in gathering requirements, analyzing data, and presenting findings to stakeholders. Proven track record of improving business processes and increasing efficiency through data-driven insights. Skilled in SQL, data analysis, and problem-solving, with excellent communication and presentation skills. Technical Skills: * SQL (MS SQL Server, MySQL) * Data Analysis (Tableau, Power BI) * Presentation (Microsoft Office, Google Slides) * Problem-Solving (Root Cause Analysis, Six Sigma) * Business Intelligence Tools (Power BI, Tableau) * Data Visualization (D3.js, Highcharts) Professional Experience: Business Analyst, ABC Corporation (2018-Present) * Gathered and documented business requirements through stakeholder interviews, surveys, and workshops * Analyzed large datasets to identify trends, patterns, and insights that informed business decisions * Developed and presented business cases, reports, and dashboards to senior leadership and stakeholders * Collaborated with cross-functional teams to implement process improvements and optimize business operations * Utilized SQL and data analysis tools to extract and manipulate data, and presented findings to stakeholders Key Achievements: * Improved sales forecasting by 25% through data-driven insights and process improvements * Developed and implemented a data visualization dashboard that increased business user engagement by 50% * Streamlined business process, reducing cycle time by 30% and increasing productivity by 20% * Collaborated with IT team to develop and deploy a custom data analytics platform that improved data accessibility and reduced costs Education: * Master of Business Administration, XYZ University (2015-2017) * Bachelor of Science in Computer Science, ABC University (2010-2014) Certifications: * Certified Business Analyst (CBA), International Institute of Business Analysis (2019) * Certified Data Analyst (CDA), Data Science Council of America (2018) References: Available upon request. This resume showcases Laura Le's technical skills, professional experience, and achievements in the Business Analyst role. The clear structure and concise writing style make it easy to scan and understand. Remember to customize your resume to fit your specific experience and the job you're applying for!\n",
      "\n",
      "\n",
      "*****\n",
      "\n",
      "\n",
      "b'Wal-Mart Sales Manager CV Template Faye H. Harrison Porter Ave., Buffalo, NY Phone: (718) 667-5983 xxxxxx@gmail.com Objective To work as a Wal-Mart Sales Manager at its Supercenter in Florida Summary of Qualification \\xef\\x82\\xb7 13 years of experience in the retail business with the last 4 years as a sales manager for a large consumer retail store \\xef\\x82\\xb7 Excellent verbal and written communication skills in English and Spanish \\xef\\x82\\xb7 Excellent social and interpersonal skills Career Experience/Job History 2006 \\xe2\\x80\\x93 Present: Retail Sales Manager, Bloomingdale\\xe2\\x80\\x99s, NY \\xef\\x82\\xb7 Implement store policies over bulk sales and shop floor sales procedures. \\xef\\x82\\xb7 Ensure the store opens precisely on the expected selling hours of a working day \\xef\\x82\\xb7 Supervise sales and customer relations clerks to ensure high level of customer satisfaction and cost effective floor operations. \\xef\\x82\\xb7 Collaborate with merchandise brand managers in promoting their inventories \\xef\\x82\\xb7 Provide analysis of inventory turnover to identify high and slow moving inventories \\xef\\x82\\xb7 Implement seasonal sales discounts and other promotional discounting offers. \\xef\\x82\\xb7 Mentor and train sale floor operations staff 1997 \\xe2\\x80\\x93 2006: Assistant Sales Manager, Glendale Mall, CA \\xef\\x82\\xb7 Assist the sales manager in promoting inventory sales inventory \\xef\\x82\\xb7 Implement store policies and procedures and disciplinary actions for any infraction \\xef\\x82\\xb7 Coordinate with webmaster to ensure online sales items remain updated. Education 1994 \\xe2\\x80\\x93 1997: BA Business Management, University of Phoenix, Brookfield campus. Professional reference will be furnished upon request'\n",
      "\n",
      "\n",
      "*****\n",
      "\n",
      "\n",
      "Meagan Barnett Contact Information: * Phone: (555) 555-5555 * Email: [meagan.barnett@email.com](mailto:meagan.barnett@email.com) * LinkedIn: linkedin.com/in/meagannbarnett * GitHub: github.com/meagannbarnett Professional Summary: Highly motivated and detail-oriented QA Engineer with 5+ years of experience in manual and automated testing. Skilled in creating and executing test plans, identifying defects, and collaborating with cross-functional teams to ensure high-quality software releases. Proficient in Selenium and other automation tools, with a strong understanding of software development life cycles. Technical Skills: * Manual Testing * Automated Testing * Selenium * TestNG * Appium * JIRA * Confluence * Agile Methodologies * Version Control Systems (Git) Work Experience: QA Engineer, ABC Corporation (2020-Present) * Designed and executed test plans for multiple software releases, resulting in a 30% reduction in defect density * Collaborated with development teams to identify and prioritize testing efforts, ensuring timely and successful releases * Created and maintained automated test scripts using Selenium and Appium, resulting in a 25% increase in test automation coverage * Utilized JIRA and Confluence to track and report testing efforts, defects, and testing progress QA Engineer, DEF Startups (2018-2020) * Conducted manual and automated testing for web and mobile applications, ensuring high-quality software releases * Developed and maintained test automation frameworks using Selenium and TestNG * Worked closely with development teams to identify and prioritize testing efforts, resulting in a 20% reduction in defect density * Utilized version control systems (Git) to manage and track testing efforts Education: * Bachelor of Science in Computer Science, XYZ University (2015-2018) Certifications: * Certified Software Tester (CSTE), International Software Testing Qualifications Board (ISTQB) * Certified Automation Tester (CAT), International Software Testing Qualifications Board (ISTQB) Achievements: * Selected as a keynote speaker for the 2020 Software Testing Conference, presenting on \"Effective Test Automation Strategies\" * Published a blog post on \"Test Automation Best Practices\" on the ABC Corporation blog, which received over 1,000 views * Received the \"QA Engineer of the Year\" award at the 2019 DEF Startups annual awards ceremony References: Available upon request. I hope this sample resume helps! Remember to customize your resume to fit your specific experience and the job you're applying for.\n",
      "\n",
      "\n",
      "*****\n",
      "\n",
      "\n",
      "Sherry Davis QA Engineer Contact Information: * Phone: (555) 123-4567 * Email: [sherry.davis@email.com](mailto:sherry.davis@email.com) * LinkedIn: linkedin.com/in/sherrydavisqa Summary: Highly motivated and detail-oriented QA Engineer with 5+ years of experience in manual testing, bug tracking, performance testing, and test case development. Proficient in using various testing tools and technologies to ensure high-quality software products. Strong analytical and problem-solving skills with excellent communication and teamwork abilities. Professional Experience: QA Engineer, ABC Corporation (2018-Present) * Conducted manual testing on web and mobile applications to identify bugs and defects * Developed and executed test cases to ensure coverage of all functional requirements * Used JIRA and TestRail to track and manage bugs, test cases, and test runs * Collaborated with development team to reproduce and resolve defects * Conducted performance testing to ensure optimal system performance * Participated in project planning and estimation to ensure testing efforts were aligned with project goals QA Tester, DEF Solutions (2015-2018) * Tested software applications to identify bugs and defects * Created and executed test cases to ensure coverage of all functional requirements * Used Bugzilla and TestLink to track and manage bugs and test cases * Collaborated with development team to reproduce and resolve defects * Participated in project planning and estimation to ensure testing efforts were aligned with project goals Education: * Bachelor's Degree in Computer Science, XYZ University (2015) Skills: * Manual testing * Bug tracking (JIRA, Bugzilla) * Performance testing (LoadRunner, JMeter) * Test case development (TestRail, TestLink) * Agile methodologies (Scrum, Kanban) * Version control systems (Git, SVN) * Operating Systems (Windows, Linux, macOS) Achievements: * Successfully reduced defect density by 30% in a 6-month period through effective testing and bug tracking * Developed and implemented a test automation framework using Selenium WebDriver, resulting in a 50% reduction in testing time * Collaborated with cross-functional teams to deliver high-quality software products on time and within budget * Received recognition for outstanding contributions to QA team and company-wide quality initiatives Certifications: * Certified Associate in Software Testing (CAST), International Software Testing Qualifications Board (ISTQB) * Certified Scrum Master (CSM), Scrum Alliance References: Available upon request.\n",
      "\n",
      "\n",
      "*****\n",
      "\n",
      "\n",
      "CONSULTANT Education and Training 2016 MPH, George Washington University Bangladesh Medical College, University of Dhaka City MBBS 2003 Community Medicine, Microbiology, Pathology, Internal Medicine & Psychiatry Skill Highlights Microsoft Word, Excel, and Power Point Professional Experience October 2015 to November 2015 Company Name Consultant Identified Growth Monitoring and Promotion (GMP) program implementation deficits and suggested recommendations for improvement Reviewed available project documentation to locate potential program gaps Conducted multiple field visits to four districts in southwest to observe and provide technical input to ongoing child nutrition activities with specific focus on GMP sessions Located gaps in program participation, and data reporting and monitoring Presented research findings at multiple points in time to relevant stakeholders and program officials. January 2002 to May 2003 Company Name Helped organize an initiative to prevent arsenicosis in Jalla, district of Brahminbaria. Dr. Rahman helped create public awareness of arsenic poisoning, encouraged people to drink arsenic free water to prevent arsenicosis, and helped organize an arsenic-free water delivery system to meet the community needs in collaboration with community stakeholders. Helped provide poor residents of Jalla free medical resources. Dr. Rahman gathered and distributed medical supplies, and provided physical examinations and consultations in collaboration with another physician. Public Health Campaign Volunteer, September 1998- May 2003 UNICEF & WHO in Bangladesh Participated in a campaign for creating awareness of ante-natal check-up and educating mothers to be about the importance of breastfeeding after child birth in rural Dhaka. Dr. Rahman conducted physical examinations, provided treatment and follow-up services, and disseminated information. Worked for the Expanded Program on Immunization (EPI), a program aimed at reducing mortality and morbidity from preventable diseases through vaccinations in many rural areas of Bangladesh. Dr. Rahman volunteered for five years during her medical studies and administered DPT, MMR, & BCG vaccinations, while speaking to residents and creating awareness. June 1996 to September 2003 Company Name Actively participated in community teaching programs about Eclampsia in rural Bangladesh. Eclampsia is a common problem due to lack of health awareness, health education, poverty, and superstitious beliefs. As a result of this campaign, Eclampsia was significantly reduced throughout Bangladesh. Dr. Rahman helped educate women about maternal health, provided treatment and follow-up services, and disseminated information. Worked for a campaign on the use of ORS (Oral Rehydration Solution) to reduce the death rate due to diarrhea followed by severe dehydration in rural Bangladesh. This campaign resulted in a reduction in the child mortality rate due to diarrhea and severe dehydration significantly. Dr. Rahman helped create awareness among the local communities through community engagement, provided educational resources, and helped distribute ORS kits. Red Crescent Society of Bangladesh Worked on multiple blood donation campaigns in Dhaka. Dr. Rahman helped collect blood that was donated, gathered and documented medical history of donors, and provided medical information as requested. Physician (Family Medicine), with Dr. Shahina Motalib, Dhaka, Bangladesh, September 2003- May 2005 Dr. Rahman treated patients, provided physical examinations, consultations, and follow-up services. Accomplishments Consulted for a World Bank-JSDF agriculture and nutrition project in Uganda Participated in public health programs organized by Red Crescent Society, UNICEF, WHO, and BMC Organized and conducted community intervention initiatives Worked with a physician for more than two years in the US Practiced for more than two years as physician in Bangladesh. Professional Affiliations American Medical Association, Member (AMA) Registered Physician of Bangladesh Medical and Dental Council (BMDC) Languages Bengali(Native), English (Spoken, Written, Read), Hindi (Spoken), Urdu (Spoken) Skills Anatomy, Biochemistry, Oral, delivery, Dermatology, documentation, English, Family Medicine, focus, Genetics, GMP, health education, Hindi, Immunization, Immunology, Internal Medicine, Internal-Medicine, Excel, Power Point, Microsoft Word, Molecular Biology, OB/GYN, Ophthalmology, Pathology, Pediatrics, Pharmacology, Physiology, program implementation, Promotion, Psychiatry, Public Health, speaking, Read, reporting, research, SPSS, Surgery, teaching, Urdu, Written\n",
      "\n",
      "\n",
      "*****\n",
      "\n",
      "\n"
     ]
    }
   ],
   "source": [
    "for i in range(len(extract)):\n",
    "    with pd.option_context('display.max_colwidth', None):\n",
    "        print(extract.iloc[i])\n",
    "        print('\\n\\n*****\\n\\n')"
   ]
  },
  {
   "cell_type": "code",
   "execution_count": 37,
   "id": "156895bf-a010-4bc7-957b-b40c537f1ee0",
   "metadata": {},
   "outputs": [],
   "source": [
    "summaries = [\n",
    "    \"\"\"Laura Le resides at 123 Main St, Anytown, USA. She holds an MBA from XYZ University and a BS in Computer Science from ABC University. \n",
    "She currently works as a Business Analyst at ABC Corporation where she gathers requirements, analyzes data, and supports business decisions. \n",
    "Her key achievements include improving sales forecasting accuracy and developing business dashboards. \n",
    "Laura is proficient in SQL, Tableau, Power BI, and data visualization libraries such as D3.js. \n",
    "She is recognized for enhancing business efficiency and productivity. References available upon request.\"\"\",\n",
    "\n",
    "    \"\"\"Faye H. Harrison, based in Buffalo, NY, is seeking a Sales Manager role in a Florida Walmart Supercenter. \n",
    "She holds a BA in Business Management from the University of Phoenix. \n",
    "Faye has over 13 years of retail experience, including roles as sales manager at Bloomingdale’s and assistant sales manager at Glendale Mall. \n",
    "She has managed teams, implemented promotional strategies, and analyzed sales data. \n",
    "She is bilingual in English and Spanish and is skilled in customer service, inventory oversight, and team leadership. \n",
    "References available upon request.\"\"\",\n",
    "\n",
    "    \"\"\"Meagan Barnett is a QA Engineer with a BS in Computer Science from XYZ University and certifications from ISTQB. \n",
    "She currently works at ABC Corporation and previously worked at DEF Startups. \n",
    "Her responsibilities include test planning, automation using Selenium and Appium, and defect tracking. \n",
    "She has successfully reduced defect densities and improved testing efficiency. \n",
    "Her skills include TestNG, JIRA, Git, and both web and mobile testing. \n",
    "She has been recognized for her contributions to QA practices and has spoken at industry events. References available upon request.\"\"\",\n",
    "\n",
    "    \"\"\"Sherry Davis is a QA Engineer with a Bachelor's Degree in Computer Science from XYZ University and certifications in ISTQB and Scrum. \n",
    "She has experience at ABC Corporation and DEF Solutions performing functional and performance testing, using tools like JIRA, LoadRunner, and Git. \n",
    "Sherry specializes in Agile QA processes, bug tracking, and automated testing frameworks. \n",
    "She has been recognized for reducing defect density and leading test automation initiatives. \n",
    "References available upon request.\"\"\",\n",
    "\n",
    "    \"\"\"Dr. Rahman is a public health consultant with an MBBS from the University of Dhaka and an MPH from George Washington University. \n",
    "She has worked on child nutrition, maternal health, arsenicosis awareness, and eclampsia reduction programs in Bangladesh, often in collaboration with UNICEF and WHO. \n",
    "Her skills include community outreach, health education, and program evaluation. \n",
    "She has experience in organizing mass awareness campaigns and delivering field health services. \n",
    "She is highly committed to improving public health outcomes through education and direct service.\"\"\"\n",
    "]"
   ]
  },
  {
   "cell_type": "code",
   "execution_count": 38,
   "id": "710b7639-3009-43ae-a9f5-fc13e6cdcd51",
   "metadata": {},
   "outputs": [
    {
     "data": {
      "text/html": [
       "<div>\n",
       "<style scoped>\n",
       "    .dataframe tbody tr th:only-of-type {\n",
       "        vertical-align: middle;\n",
       "    }\n",
       "\n",
       "    .dataframe tbody tr th {\n",
       "        vertical-align: top;\n",
       "    }\n",
       "\n",
       "    .dataframe thead th {\n",
       "        text-align: right;\n",
       "    }\n",
       "</style>\n",
       "<table border=\"1\" class=\"dataframe\">\n",
       "  <thead>\n",
       "    <tr style=\"text-align: right;\">\n",
       "      <th></th>\n",
       "      <th>Resume</th>\n",
       "      <th>summaries</th>\n",
       "    </tr>\n",
       "  </thead>\n",
       "  <tbody>\n",
       "    <tr>\n",
       "      <th>11755</th>\n",
       "      <td>Laura Le Contact Information: * Address: 123 M...</td>\n",
       "      <td>Laura Le resides at 123 Main St, Anytown, USA....</td>\n",
       "    </tr>\n",
       "    <tr>\n",
       "      <th>837</th>\n",
       "      <td>b'Wal-Mart Sales Manager CV Template Faye H. H...</td>\n",
       "      <td>Faye H. Harrison, based in Buffalo, NY, is see...</td>\n",
       "    </tr>\n",
       "    <tr>\n",
       "      <th>9561</th>\n",
       "      <td>Meagan Barnett Contact Information: * Phone: (...</td>\n",
       "      <td>Meagan Barnett is a QA Engineer with a BS in C...</td>\n",
       "    </tr>\n",
       "    <tr>\n",
       "      <th>10275</th>\n",
       "      <td>Sherry Davis QA Engineer Contact Information: ...</td>\n",
       "      <td>Sherry Davis is a QA Engineer with a Bachelor'...</td>\n",
       "    </tr>\n",
       "    <tr>\n",
       "      <th>3015</th>\n",
       "      <td>CONSULTANT Education and Training 2016 MPH, Ge...</td>\n",
       "      <td>Dr. Rahman is a public health consultant with ...</td>\n",
       "    </tr>\n",
       "  </tbody>\n",
       "</table>\n",
       "</div>"
      ],
      "text/plain": [
       "                                                  Resume  \\\n",
       "11755  Laura Le Contact Information: * Address: 123 M...   \n",
       "837    b'Wal-Mart Sales Manager CV Template Faye H. H...   \n",
       "9561   Meagan Barnett Contact Information: * Phone: (...   \n",
       "10275  Sherry Davis QA Engineer Contact Information: ...   \n",
       "3015   CONSULTANT Education and Training 2016 MPH, Ge...   \n",
       "\n",
       "                                               summaries  \n",
       "11755  Laura Le resides at 123 Main St, Anytown, USA....  \n",
       "837    Faye H. Harrison, based in Buffalo, NY, is see...  \n",
       "9561   Meagan Barnett is a QA Engineer with a BS in C...  \n",
       "10275  Sherry Davis is a QA Engineer with a Bachelor'...  \n",
       "3015   Dr. Rahman is a public health consultant with ...  "
      ]
     },
     "execution_count": 38,
     "metadata": {},
     "output_type": "execute_result"
    }
   ],
   "source": [
    "few_shot = pd.DataFrame(extract)\n",
    "few_shot[\"summaries\"] = summaries\n",
    "few_shot"
   ]
  },
  {
   "cell_type": "code",
   "execution_count": 74,
   "id": "b0aac12c-786c-48b8-a4c2-cc854384cb94",
   "metadata": {},
   "outputs": [],
   "source": [
    "def build_few_shot_prompt(df, target_resume, num_examples=3):\n",
    "    \"\"\"\n",
    "    Build a few-shot prompt for resume summarization using prior examples.\n",
    "\n",
    "    Parameters:\n",
    "        df (pd.DataFrame): DataFrame with 'Resume' and 'summaries' columns.\n",
    "        target_resume (str): The resume text to summarize.\n",
    "        num_examples (int): Number of few-shot examples to include.\n",
    "\n",
    "    Returns:\n",
    "        List[Dict]: Messages formatted for OpenAI ChatCompletion.\n",
    "    \"\"\"\n",
    "\n",
    "    # System message to set the context\n",
    "    messages = [{\n",
    "        \"role\": \"system\",\n",
    "        \"content\": (\n",
    "            \"You are an expert in resume summarization. \"\n",
    "            \"For each resume, output a structured summary using markdown headings. \"\n",
    "            \"Divide the summary into five sections: Personal/Contact Information, Education, \"\n",
    "            \"Experience, Skills, and Other Relevant Information. Keep each section to 2–3 sentences.\"\n",
    "            \"Keep the total output under 400 tokens.\"\n",
    "        )\n",
    "    }]\n",
    "\n",
    "    # Select random few-shot examples from the dataset\n",
    "    examples = df.sample(n=num_examples, random_state=42)\n",
    "\n",
    "    for _, row in examples.iterrows():\n",
    "        resume_text = row[\"Resume\"]\n",
    "        summary_text = row[\"summaries\"]\n",
    "\n",
    "        messages.append({\"role\": \"user\", \"content\": f\"Resume:\\n{resume_text}\"})\n",
    "        messages.append({\"role\": \"assistant\", \"content\": summary_text})\n",
    "\n",
    "    # Add the target resume as the user input\n",
    "    messages.append({\"role\": \"user\", \"content\": f\"Resume:\\n{target_resume}\"})\n",
    "\n",
    "    return messages"
   ]
  },
  {
   "cell_type": "code",
   "execution_count": 40,
   "id": "a05b1311-c78d-47f7-9552-1c7fdf5571c3",
   "metadata": {},
   "outputs": [
    {
     "data": {
      "text/plain": [
       "[{'role': 'system',\n",
       "  'content': 'You are an expert in resume summarization. For each resume, output a structured summary using markdown headings. Divide the summary into five sections: Personal/Contact Information, Education, Experience, Skills, and Other Relevant Information. Keep each section to 2–3 sentences.'},\n",
       " {'role': 'user',\n",
       "  'content': \"Resume:\\nb'Wal-Mart Sales Manager CV Template Faye H. Harrison Porter Ave., Buffalo, NY Phone: (718) 667-5983 xxxxxx@gmail.com Objective To work as a Wal-Mart Sales Manager at its Supercenter in Florida Summary of Qualification \\\\xef\\\\x82\\\\xb7 13 years of experience in the retail business with the last 4 years as a sales manager for a large consumer retail store \\\\xef\\\\x82\\\\xb7 Excellent verbal and written communication skills in English and Spanish \\\\xef\\\\x82\\\\xb7 Excellent social and interpersonal skills Career Experience/Job History 2006 \\\\xe2\\\\x80\\\\x93 Present: Retail Sales Manager, Bloomingdale\\\\xe2\\\\x80\\\\x99s, NY \\\\xef\\\\x82\\\\xb7 Implement store policies over bulk sales and shop floor sales procedures. \\\\xef\\\\x82\\\\xb7 Ensure the store opens precisely on the expected selling hours of a working day \\\\xef\\\\x82\\\\xb7 Supervise sales and customer relations clerks to ensure high level of customer satisfaction and cost effective floor operations. \\\\xef\\\\x82\\\\xb7 Collaborate with merchandise brand managers in promoting their inventories \\\\xef\\\\x82\\\\xb7 Provide analysis of inventory turnover to identify high and slow moving inventories \\\\xef\\\\x82\\\\xb7 Implement seasonal sales discounts and other promotional discounting offers. \\\\xef\\\\x82\\\\xb7 Mentor and train sale floor operations staff 1997 \\\\xe2\\\\x80\\\\x93 2006: Assistant Sales Manager, Glendale Mall, CA \\\\xef\\\\x82\\\\xb7 Assist the sales manager in promoting inventory sales inventory \\\\xef\\\\x82\\\\xb7 Implement store policies and procedures and disciplinary actions for any infraction \\\\xef\\\\x82\\\\xb7 Coordinate with webmaster to ensure online sales items remain updated. Education 1994 \\\\xe2\\\\x80\\\\x93 1997: BA Business Management, University of Phoenix, Brookfield campus. Professional reference will be furnished upon request'\"},\n",
       " {'role': 'assistant',\n",
       "  'content': 'Faye H. Harrison, based in Buffalo, NY, is seeking a Sales Manager role in a Florida Walmart Supercenter. \\nShe holds a BA in Business Management from the University of Phoenix. \\nFaye has over 13 years of retail experience, including roles as sales manager at Bloomingdale’s and assistant sales manager at Glendale Mall. \\nShe has managed teams, implemented promotional strategies, and analyzed sales data. \\nShe is bilingual in English and Spanish and is skilled in customer service, inventory oversight, and team leadership. \\nReferences available upon request.'},\n",
       " {'role': 'user',\n",
       "  'content': 'Resume:\\nCONSULTANT Education and Training 2016 MPH, George Washington University Bangladesh Medical College, University of Dhaka City MBBS 2003 Community Medicine, Microbiology, Pathology, Internal Medicine & Psychiatry Skill Highlights Microsoft Word, Excel, and Power Point Professional Experience October 2015 to November 2015 Company Name Consultant Identified Growth Monitoring and Promotion (GMP) program implementation deficits and suggested recommendations for improvement Reviewed available project documentation to locate potential program gaps Conducted multiple field visits to four districts in southwest to observe and provide technical input to ongoing child nutrition activities with specific focus on GMP sessions Located gaps in program participation, and data reporting and monitoring Presented research findings at multiple points in time to relevant stakeholders and program officials. January 2002 to May 2003 Company Name Helped organize an initiative to prevent arsenicosis in Jalla, district of Brahminbaria. Dr. Rahman helped create public awareness of arsenic poisoning, encouraged people to drink arsenic free water to prevent arsenicosis, and helped organize an arsenic-free water delivery system to meet the community needs in collaboration with community stakeholders. Helped provide poor residents of Jalla free medical resources. Dr. Rahman gathered and distributed medical supplies, and provided physical examinations and consultations in collaboration with another physician. Public Health Campaign Volunteer, September 1998- May 2003 UNICEF & WHO in Bangladesh Participated in a campaign for creating awareness of ante-natal check-up and educating mothers to be about the importance of breastfeeding after child birth in rural Dhaka. Dr. Rahman conducted physical examinations, provided treatment and follow-up services, and disseminated information. Worked for the Expanded Program on Immunization (EPI), a program aimed at reducing mortality and morbidity from preventable diseases through vaccinations in many rural areas of Bangladesh. Dr. Rahman volunteered for five years during her medical studies and administered DPT, MMR, & BCG vaccinations, while speaking to residents and creating awareness. June 1996 to September 2003 Company Name Actively participated in community teaching programs about Eclampsia in rural Bangladesh. Eclampsia is a common problem due to lack of health awareness, health education, poverty, and superstitious beliefs. As a result of this campaign, Eclampsia was significantly reduced throughout Bangladesh. Dr. Rahman helped educate women about maternal health, provided treatment and follow-up services, and disseminated information. Worked for a campaign on the use of ORS (Oral Rehydration Solution) to reduce the death rate due to diarrhea followed by severe dehydration in rural Bangladesh. This campaign resulted in a reduction in the child mortality rate due to diarrhea and severe dehydration significantly. Dr. Rahman helped create awareness among the local communities through community engagement, provided educational resources, and helped distribute ORS kits. Red Crescent Society of Bangladesh Worked on multiple blood donation campaigns in Dhaka. Dr. Rahman helped collect blood that was donated, gathered and documented medical history of donors, and provided medical information as requested. Physician (Family Medicine), with Dr. Shahina Motalib, Dhaka, Bangladesh, September 2003- May 2005 Dr. Rahman treated patients, provided physical examinations, consultations, and follow-up services. Accomplishments Consulted for a World Bank-JSDF agriculture and nutrition project in Uganda Participated in public health programs organized by Red Crescent Society, UNICEF, WHO, and BMC Organized and conducted community intervention initiatives Worked with a physician for more than two years in the US Practiced for more than two years as physician in Bangladesh. Professional Affiliations American Medical Association, Member (AMA) Registered Physician of Bangladesh Medical and Dental Council (BMDC) Languages Bengali(Native), English (Spoken, Written, Read), Hindi (Spoken), Urdu (Spoken) Skills Anatomy, Biochemistry, Oral, delivery, Dermatology, documentation, English, Family Medicine, focus, Genetics, GMP, health education, Hindi, Immunization, Immunology, Internal Medicine, Internal-Medicine, Excel, Power Point, Microsoft Word, Molecular Biology, OB/GYN, Ophthalmology, Pathology, Pediatrics, Pharmacology, Physiology, program implementation, Promotion, Psychiatry, Public Health, speaking, Read, reporting, research, SPSS, Surgery, teaching, Urdu, Written'},\n",
       " {'role': 'assistant',\n",
       "  'content': 'Dr. Rahman is a public health consultant with an MBBS from the University of Dhaka and an MPH from George Washington University. \\nShe has worked on child nutrition, maternal health, arsenicosis awareness, and eclampsia reduction programs in Bangladesh, often in collaboration with UNICEF and WHO. \\nHer skills include community outreach, health education, and program evaluation. \\nShe has experience in organizing mass awareness campaigns and delivering field health services. \\nShe is highly committed to improving public health outcomes through education and direct service.'},\n",
       " {'role': 'user',\n",
       "  'content': 'Resume:\\nMeagan Barnett Contact Information: * Phone: (555) 555-5555 * Email: [meagan.barnett@email.com](mailto:meagan.barnett@email.com) * LinkedIn: linkedin.com/in/meagannbarnett * GitHub: github.com/meagannbarnett Professional Summary: Highly motivated and detail-oriented QA Engineer with 5+ years of experience in manual and automated testing. Skilled in creating and executing test plans, identifying defects, and collaborating with cross-functional teams to ensure high-quality software releases. Proficient in Selenium and other automation tools, with a strong understanding of software development life cycles. Technical Skills: * Manual Testing * Automated Testing * Selenium * TestNG * Appium * JIRA * Confluence * Agile Methodologies * Version Control Systems (Git) Work Experience: QA Engineer, ABC Corporation (2020-Present) * Designed and executed test plans for multiple software releases, resulting in a 30% reduction in defect density * Collaborated with development teams to identify and prioritize testing efforts, ensuring timely and successful releases * Created and maintained automated test scripts using Selenium and Appium, resulting in a 25% increase in test automation coverage * Utilized JIRA and Confluence to track and report testing efforts, defects, and testing progress QA Engineer, DEF Startups (2018-2020) * Conducted manual and automated testing for web and mobile applications, ensuring high-quality software releases * Developed and maintained test automation frameworks using Selenium and TestNG * Worked closely with development teams to identify and prioritize testing efforts, resulting in a 20% reduction in defect density * Utilized version control systems (Git) to manage and track testing efforts Education: * Bachelor of Science in Computer Science, XYZ University (2015-2018) Certifications: * Certified Software Tester (CSTE), International Software Testing Qualifications Board (ISTQB) * Certified Automation Tester (CAT), International Software Testing Qualifications Board (ISTQB) Achievements: * Selected as a keynote speaker for the 2020 Software Testing Conference, presenting on \"Effective Test Automation Strategies\" * Published a blog post on \"Test Automation Best Practices\" on the ABC Corporation blog, which received over 1,000 views * Received the \"QA Engineer of the Year\" award at the 2019 DEF Startups annual awards ceremony References: Available upon request. I hope this sample resume helps! Remember to customize your resume to fit your specific experience and the job you\\'re applying for.'},\n",
       " {'role': 'assistant',\n",
       "  'content': 'Meagan Barnett is a QA Engineer with a BS in Computer Science from XYZ University and certifications from ISTQB. \\nShe currently works at ABC Corporation and previously worked at DEF Startups. \\nHer responsibilities include test planning, automation using Selenium and Appium, and defect tracking. \\nShe has successfully reduced defect densities and improved testing efficiency. \\nHer skills include TestNG, JIRA, Git, and both web and mobile testing. \\nShe has been recognized for her contributions to QA practices and has spoken at industry events. References available upon request.'},\n",
       " {'role': 'user',\n",
       "  'content': 'Resume:\\nShawn Gentry Contact Information: * Email: [shawn.gentry@email.com](mailto:shawn.gentry@email.com) * Phone: (123) 456-7890 * LinkedIn: linkedin.com/in/shawngentry Summary: Highly motivated and detail-oriented AI researcher with expertise in Natural Language Processing, Generative Adversarial Networks, Transformers, and Computer Vision. Proficient in PyTorch and experienced in designing and implementing various AI models for real-world applications. Skilled in data analysis, algorithm development, and model deployment. Professional Experience: * AI Researcher, ABC Research Institute (2020-Present) + Designed and implemented multiple AI models using NLP and Computer Vision techniques for image and text classification tasks + Developed and trained deep learning models using PyTorch, achieving state-of-the-art performance on multiple benchmark datasets + Collaborated with cross-functional teams to integrate AI models into real-world applications, including object detection and sentiment analysis + Published research papers on NLP and Computer Vision in top-tier conferences, including ICML and CVPR * Research Assistant, DEF University (2018-2020) + Assisted in designing and implementing various AI models, including GANs and Transformers, for image and text generation tasks + Conducted experiments and analyzed results to improve model performance and identify areas for improvement + Co-authored research papers on NLP and Computer Vision, published in top-tier conferences, including ACL and ICCV Education: * Ph.D. in Computer Science, DEF University (2018) + Coursework: Machine Learning, NLP, Computer Vision, and Deep Learning + Research focus: Natural Language Processing and Computer Vision * M.S. in Computer Science, DEF University (2016) + Coursework: Machine Learning, NLP, and Computer Vision Skills: * Programming languages: Python, PyTorch, TensorFlow * AI frameworks: PyTorch, TensorFlow * Computer Vision: Image classification, object detection, segmentation * NLP: Text classification, sentiment analysis, language modeling * Generative Models: GANs, VAEs, Transformers * Data analysis and visualization tools: NumPy, Pandas, Matplotlib, Seaborn Achievements: * Best Paper Award, ICML 2020, for research on \"Improving Image Classification using Generative Adversarial Networks\" * Top 10% in CVPR 2020, for research on \"Image-to-Image Translation using Transformers\" * Published 10+ research papers in top-tier conferences, including ICML, CVPR, ACL, and ICCV Certifications: * Certified AI Researcher, AI Research Institute (2020) * Certified Deep Learning Practitioner, Deep Learning Institute (2019) References: Available upon request.'}]"
      ]
     },
     "execution_count": 40,
     "metadata": {},
     "output_type": "execute_result"
    }
   ],
   "source": [
    "build_few_shot_prompt(few_shot, data.Resume.sample(1).values[0])"
   ]
  },
  {
   "cell_type": "code",
   "execution_count": 49,
   "id": "1b7aa382-7879-4ce3-9a2d-9a2e2ebc0a6d",
   "metadata": {},
   "outputs": [],
   "source": [
    "import openai\n",
    "\n",
    "client = openai.OpenAI(\n",
    "    api_key=os.getenv(\"OPENAI_RESUME_SUMMARIES_KEY\")\n",
    ")"
   ]
  },
  {
   "cell_type": "code",
   "execution_count": 50,
   "id": "300a8873-bf26-4c8f-b0d1-5ca4253fae37",
   "metadata": {},
   "outputs": [],
   "source": [
    "def test_models_on_resume(resume_text, df_fewshot, models=(\"gpt-4o-mini\", \"gpt-3.5-turbo\")):\n",
    "    results = {}\n",
    "\n",
    "    for model in models:\n",
    "        try:\n",
    "            print(f\"\\n🔍 Testing model: {model}\")\n",
    "            messages = build_few_shot_prompt(df_fewshot, target_resume=resume_text, num_examples=2)\n",
    "\n",
    "            response = client.chat.completions.create(\n",
    "                model=model,\n",
    "                messages=messages,\n",
    "                temperature=0.7\n",
    "            )\n",
    "\n",
    "            summary = response.choices[0].message.content\n",
    "            results[model] = summary\n",
    "            print(f\"[✓] Summary from {model}:\\n\")\n",
    "            print(summary)\n",
    "            print(\"-\" * 60)\n",
    "\n",
    "        except Exception as e:\n",
    "            results[model] = f\"Error: {str(e)}\"\n",
    "            print(f\"[!] Error with model {model}: {e}\")\n",
    "\n",
    "    return results"
   ]
  },
  {
   "cell_type": "code",
   "execution_count": 51,
   "id": "7d1ba5bc-0fee-4c6d-817c-79135abca777",
   "metadata": {},
   "outputs": [],
   "source": [
    "df_fewshot = few_shot.sample(n=2, random_state=42)\n",
    "test_resume_text = data.sample(n=1, random_state=24)[\"Resume\"].values[0]"
   ]
  },
  {
   "cell_type": "markdown",
   "id": "7209a584-9840-4be3-8d16-ca284a26b018",
   "metadata": {},
   "source": [
    "##### results = test_models_on_resume(test_resume_text, df_fewshot)"
   ]
  },
  {
   "cell_type": "code",
   "execution_count": 54,
   "id": "4d2cb2e0-0f3b-4504-9897-67f37426a8c5",
   "metadata": {},
   "outputs": [],
   "source": [
    "def estimate_costs_per_resume(input_tokens=2000, output_tokens=500):\n",
    "    cost = {\n",
    "        \"gpt-4o-mini\":  (input_tokens / 1000 * 0.0005) + (output_tokens / 1000 * 0.0015),\n",
    "        \"gpt-3.5-turbo\":(input_tokens / 1000 * 0.0015) + (output_tokens / 1000 * 0.002)\n",
    "    }\n",
    "    return {k: round(v, 5) for k, v in cost.items()}"
   ]
  },
  {
   "cell_type": "code",
   "execution_count": 57,
   "id": "5e700875-9234-4cf3-8038-949cc42a3122",
   "metadata": {},
   "outputs": [],
   "source": [
    "import tiktoken\n",
    "\n",
    "def count_tokens_from_messages(messages, model=\"gpt-4o-mini\"):\n",
    "    \"\"\"Estimate the number of tokens used by a list of chat messages.\"\"\"\n",
    "    encoding = tiktoken.encoding_for_model(model)\n",
    "\n",
    "    # Token rules from OpenAI guidelines:\n",
    "    # Each message: <role/name> <content> => 4 tokens overhead\n",
    "    num_tokens = 0\n",
    "    for message in messages:\n",
    "        num_tokens += 4  # role + structure\n",
    "        for key, value in message.items():\n",
    "            num_tokens += len(encoding.encode(value))\n",
    "    num_tokens += 2  # assistant reply priming\n",
    "    return num_tokens"
   ]
  },
  {
   "cell_type": "code",
   "execution_count": 60,
   "id": "b78feaa3-ed22-4966-9163-e1677b33125a",
   "metadata": {},
   "outputs": [
    {
     "name": "stdout",
     "output_type": "stream",
     "text": [
      "Estimated total input tokens for gpt-4o-mini: 33,271,027\n",
      "Estimated total input tokens for gpt-3.5-turbo: 33,494,557\n"
     ]
    }
   ],
   "source": [
    "total_tokens = 0\n",
    "models = ('gpt-4o-mini', 'gpt-3.5-turbo')\n",
    "\n",
    "for mod in models:\n",
    "    total_tokens = 0\n",
    "    for i, row in data.iterrows():\n",
    "        resume_text = row[\"Resume\"]\n",
    "        messages = build_few_shot_prompt(df_fewshot, target_resume=resume_text, num_examples=2)\n",
    "        tokens = count_tokens_from_messages(messages, model=mod)\n",
    "        total_tokens += tokens\n",
    "    print(f\"Estimated total input tokens for {mod}: {total_tokens:,}\")"
   ]
  },
  {
   "cell_type": "code",
   "execution_count": 63,
   "id": "cef959eb-e262-4917-8b3f-37392beeb020",
   "metadata": {},
   "outputs": [
    {
     "data": {
      "text/plain": [
       "{'gpt-4o-mini': 25.33251, 'gpt-3.5-turbo': 61.50254}"
      ]
     },
     "execution_count": 63,
     "metadata": {},
     "output_type": "execute_result"
    }
   ],
   "source": [
    "out_tokens = data.shape[0] * 400\n",
    "input_tokens_4o_mini = 33271027\n",
    "input_tokens_35_turbo = 33494557\n",
    "estimate_costs_per_resume(input_tokens=input_tokens_4o_mini, output_tokens=out_tokens)"
   ]
  },
  {
   "cell_type": "code",
   "execution_count": 82,
   "id": "ae529d0c-5a19-40e8-9e86-12579f7e127b",
   "metadata": {},
   "outputs": [],
   "source": [
    "from tqdm import tqdm\n",
    "import time"
   ]
  },
  {
   "cell_type": "code",
   "execution_count": 83,
   "id": "8ebf4360-b701-4baf-9a96-e99f6d893ecb",
   "metadata": {},
   "outputs": [],
   "source": [
    "def count_tokens_from_messages(messages, model=\"gpt-4o-mini\"):\n",
    "    encoding = tiktoken.encoding_for_model(model)\n",
    "    num_tokens = 0\n",
    "    for message in messages:\n",
    "        num_tokens += 4  # each message overhead\n",
    "        for key, value in message.items():\n",
    "            num_tokens += len(encoding.encode(value))\n",
    "    num_tokens += 2  # assistant reply priming\n",
    "    return num_tokens\n",
    "\n",
    "def summarize_dataset(data, fewshot_df, model=\"gpt-4o-mini\", output_file=\"resume_summaries.jsonl\"):\n",
    "    summarized_rows = []\n",
    "    total_input_tokens = 0\n",
    "    total_output_tokens = 0\n",
    "\n",
    "    for i, row in tqdm(data.iterrows(), total=len(data)):\n",
    "        try:\n",
    "            messages = build_few_shot_prompt(fewshot_df, target_resume=row[\"prompt\"])\n",
    "            input_tokens = count_tokens_from_messages(messages, model=model)\n",
    "\n",
    "            response = client.chat.completions.create(\n",
    "                model=model,\n",
    "                messages=messages,\n",
    "                temperature=0.7,\n",
    "            )\n",
    "\n",
    "            summary = response.choices[0].message.content.strip()\n",
    "            output_tokens = response.usage.completion_tokens\n",
    "\n",
    "            total_input_tokens += input_tokens\n",
    "            total_output_tokens += output_tokens\n",
    "\n",
    "            result = {\n",
    "                \"index\": i,\n",
    "                \"resume\": row[\"Resume\"],\n",
    "                \"summary\": summary,\n",
    "                \"input_tokens\": input_tokens,\n",
    "                \"output_tokens\": output_tokens,\n",
    "                \"total_tokens\": input_tokens + output_tokens\n",
    "            }\n",
    "            summarized_rows.append(result)\n",
    "\n",
    "            # Optional: write incrementally to avoid loss\n",
    "            with open(output_file, \"a\") as f:\n",
    "                f.write(json.dumps(result) + \"\\n\")\n",
    "\n",
    "            time.sleep(1.1)  # avoid rate limit\n",
    "\n",
    "        except Exception as e:\n",
    "            print(f\"[!] Error at index {i}: {e}\")\n",
    "            continue\n",
    "\n",
    "    print(f\"Total resumes summarized: {len(summarized_rows)}\")\n",
    "    print(f\"Estimated cost: ${(total_input_tokens/1000 * 0.0005 + total_output_tokens/1000 * 0.0015):.2f}\")\n",
    "\n",
    "    return summarized_rows"
   ]
  },
  {
   "cell_type": "code",
   "execution_count": 84,
   "id": "5babb6ed-b3ae-4468-91bb-e8d99c575d1b",
   "metadata": {},
   "outputs": [
    {
     "name": "stderr",
     "output_type": "stream",
     "text": [
      "100%|██████████████████████████████████| 14495/14495 [18:21:28<00:00,  4.56s/it]"
     ]
    },
    {
     "name": "stdout",
     "output_type": "stream",
     "text": [
      "Total resumes summarized: 14495\n",
      "Estimated cost: $23.78\n"
     ]
    },
    {
     "name": "stderr",
     "output_type": "stream",
     "text": [
      "\n"
     ]
    }
   ],
   "source": [
    "summarized = summarize_dataset(data, few_shot)"
   ]
  },
  {
   "cell_type": "markdown",
   "id": "abf88136-f07e-4b47-8533-0c891d3fd24f",
   "metadata": {},
   "source": [
    "# Dataset split into train-test-val and upload to HuggingFace"
   ]
  },
  {
   "cell_type": "code",
   "execution_count": 4,
   "id": "0dd64e57-5ee5-45c6-9807-a9cba73dded3",
   "metadata": {},
   "outputs": [],
   "source": [
    "import pandas as pd\n",
    "from sklearn.model_selection import train_test_split\n",
    "\n",
    "df = pd.read_json(\"~/Code/thereisnohr/data/resume_summaries.jsonl\", lines=True)\n",
    "df = df.sample(frac=1, random_state=42).reset_index(drop=True)"
   ]
  },
  {
   "cell_type": "code",
   "execution_count": 5,
   "id": "553c75af-d509-4a01-8630-41f8ddb13ce7",
   "metadata": {},
   "outputs": [
    {
     "data": {
      "text/html": [
       "<div>\n",
       "<style scoped>\n",
       "    .dataframe tbody tr th:only-of-type {\n",
       "        vertical-align: middle;\n",
       "    }\n",
       "\n",
       "    .dataframe tbody tr th {\n",
       "        vertical-align: top;\n",
       "    }\n",
       "\n",
       "    .dataframe thead th {\n",
       "        text-align: right;\n",
       "    }\n",
       "</style>\n",
       "<table border=\"1\" class=\"dataframe\">\n",
       "  <thead>\n",
       "    <tr style=\"text-align: right;\">\n",
       "      <th></th>\n",
       "      <th>index</th>\n",
       "      <th>resume</th>\n",
       "      <th>summary</th>\n",
       "      <th>input_tokens</th>\n",
       "      <th>output_tokens</th>\n",
       "      <th>total_tokens</th>\n",
       "    </tr>\n",
       "  </thead>\n",
       "  <tbody>\n",
       "    <tr>\n",
       "      <th>0</th>\n",
       "      <td>11750</td>\n",
       "      <td>James Soto Contact Information: * Email: [jame...</td>\n",
       "      <td>James Soto is a results-driven product profess...</td>\n",
       "      <td>2732</td>\n",
       "      <td>94</td>\n",
       "      <td>2826</td>\n",
       "    </tr>\n",
       "    <tr>\n",
       "      <th>1</th>\n",
       "      <td>817</td>\n",
       "      <td>b\"Call center Nurse Resume Example Mary Evans ...</td>\n",
       "      <td>Mary Evans is an experienced Call Center Nurse...</td>\n",
       "      <td>2724</td>\n",
       "      <td>112</td>\n",
       "      <td>2836</td>\n",
       "    </tr>\n",
       "    <tr>\n",
       "      <th>2</th>\n",
       "      <td>1457</td>\n",
       "      <td>Divesh Kumar Email diveshKumar9207@gmailcom Ph...</td>\n",
       "      <td>Divesh Kumar is an IT professional with 3 year...</td>\n",
       "      <td>3524</td>\n",
       "      <td>115</td>\n",
       "      <td>3639</td>\n",
       "    </tr>\n",
       "    <tr>\n",
       "      <th>3</th>\n",
       "      <td>1464</td>\n",
       "      <td>MrAvinash Arjun Shitole Emailavinashshitole11@...</td>\n",
       "      <td>Mr. Avinash Arjun Shitole is a software engine...</td>\n",
       "      <td>3120</td>\n",
       "      <td>120</td>\n",
       "      <td>3240</td>\n",
       "    </tr>\n",
       "    <tr>\n",
       "      <th>4</th>\n",
       "      <td>7992</td>\n",
       "      <td>Here is a professional resume for Michael Davi...</td>\n",
       "      <td>Michael Davis is a content writer with over 5 ...</td>\n",
       "      <td>2723</td>\n",
       "      <td>100</td>\n",
       "      <td>2823</td>\n",
       "    </tr>\n",
       "  </tbody>\n",
       "</table>\n",
       "</div>"
      ],
      "text/plain": [
       "   index                                             resume  \\\n",
       "0  11750  James Soto Contact Information: * Email: [jame...   \n",
       "1    817  b\"Call center Nurse Resume Example Mary Evans ...   \n",
       "2   1457  Divesh Kumar Email diveshKumar9207@gmailcom Ph...   \n",
       "3   1464  MrAvinash Arjun Shitole Emailavinashshitole11@...   \n",
       "4   7992  Here is a professional resume for Michael Davi...   \n",
       "\n",
       "                                             summary  input_tokens  \\\n",
       "0  James Soto is a results-driven product profess...          2732   \n",
       "1  Mary Evans is an experienced Call Center Nurse...          2724   \n",
       "2  Divesh Kumar is an IT professional with 3 year...          3524   \n",
       "3  Mr. Avinash Arjun Shitole is a software engine...          3120   \n",
       "4  Michael Davis is a content writer with over 5 ...          2723   \n",
       "\n",
       "   output_tokens  total_tokens  \n",
       "0             94          2826  \n",
       "1            112          2836  \n",
       "2            115          3639  \n",
       "3            120          3240  \n",
       "4            100          2823  "
      ]
     },
     "execution_count": 5,
     "metadata": {},
     "output_type": "execute_result"
    }
   ],
   "source": [
    "df.head()"
   ]
  },
  {
   "cell_type": "code",
   "execution_count": 6,
   "id": "74b572ba-8004-46c7-adcc-909e5b0e9a9e",
   "metadata": {},
   "outputs": [],
   "source": [
    "# 80% train, 10% validation, 10% test\n",
    "train_df, temp_df = train_test_split(df, test_size=0.2, random_state=42)\n",
    "val_df, test_df = train_test_split(temp_df, test_size=0.5, random_state=42)"
   ]
  },
  {
   "cell_type": "code",
   "execution_count": 7,
   "id": "99e6a3b1-6d5b-41fc-9f68-72f5f1f62f5c",
   "metadata": {},
   "outputs": [],
   "source": [
    "train_df.to_json(\"~/Code/thereisnohr/data/train.jsonl\", orient=\"records\", lines=True)\n",
    "val_df.to_json(\"~/Code/thereisnohr/data/validation.jsonl\", orient=\"records\", lines=True)\n",
    "test_df.to_json(\"~/Code/thereisnohr/data/test.jsonl\", orient=\"records\", lines=True)"
   ]
  },
  {
   "cell_type": "code",
   "execution_count": 8,
   "id": "de318c0a-ab41-4461-9926-4983007d9ad2",
   "metadata": {},
   "outputs": [],
   "source": [
    "from huggingface_hub import create_repo, upload_folder"
   ]
  },
  {
   "cell_type": "code",
   "execution_count": 9,
   "id": "f65adc0b-0238-4dd1-8e05-8c606a981fb2",
   "metadata": {},
   "outputs": [
    {
     "data": {
      "application/vnd.jupyter.widget-view+json": {
       "model_id": "163b54396bbf4906854773ba1972824f",
       "version_major": 2,
       "version_minor": 0
      },
      "text/plain": [
       "train.jsonl:   0%|          | 0.00/52.7M [00:00<?, ?B/s]"
      ]
     },
     "metadata": {},
     "output_type": "display_data"
    },
    {
     "data": {
      "application/vnd.jupyter.widget-view+json": {
       "model_id": "1d3abd505015449da5ccafe525aedea0",
       "version_major": 2,
       "version_minor": 0
      },
      "text/plain": [
       "resume_summaries.jsonl:   0%|          | 0.00/65.8M [00:00<?, ?B/s]"
      ]
     },
     "metadata": {},
     "output_type": "display_data"
    },
    {
     "data": {
      "application/vnd.jupyter.widget-view+json": {
       "model_id": "782bb24d14ad4804a9559f2a2ad71e1d",
       "version_major": 2,
       "version_minor": 0
      },
      "text/plain": [
       "Upload 2 LFS files:   0%|          | 0/2 [00:00<?, ?it/s]"
      ]
     },
     "metadata": {},
     "output_type": "display_data"
    },
    {
     "data": {
      "text/plain": [
       "CommitInfo(commit_url='https://huggingface.co/datasets/jbeiroa/resume-summarization-dataset/commit/d7c81ff219a6150b481ca5af5ec6665953a6a172', commit_message='Upload folder using huggingface_hub', commit_description='', oid='d7c81ff219a6150b481ca5af5ec6665953a6a172', pr_url=None, repo_url=RepoUrl('https://huggingface.co/datasets/jbeiroa/resume-summarization-dataset', endpoint='https://huggingface.co', repo_type='dataset', repo_id='jbeiroa/resume-summarization-dataset'), pr_revision=None, pr_num=None)"
      ]
     },
     "execution_count": 9,
     "metadata": {},
     "output_type": "execute_result"
    }
   ],
   "source": [
    "repo_id = \"jbeiroa/resume-summarization-dataset\"\n",
    "\n",
    "upload_folder(\n",
    "    repo_id=repo_id,\n",
    "    repo_type=\"dataset\",\n",
    "    folder_path=\"~/Code/thereisnohr/data\",  # your local folder\n",
    "    path_in_repo=\"\",  # root of the repo\n",
    ")"
   ]
  }
 ],
 "metadata": {
  "kernelspec": {
   "display_name": "Python 3 (ipykernel)",
   "language": "python",
   "name": "python3"
  },
  "language_info": {
   "codemirror_mode": {
    "name": "ipython",
    "version": 3
   },
   "file_extension": ".py",
   "mimetype": "text/x-python",
   "name": "python",
   "nbconvert_exporter": "python",
   "pygments_lexer": "ipython3",
   "version": "3.12.4"
  }
 },
 "nbformat": 4,
 "nbformat_minor": 5
}
